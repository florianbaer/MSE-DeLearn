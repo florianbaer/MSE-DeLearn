{
 "cells": [
  {
   "cell_type": "markdown",
   "id": "fc1e4258-a34c-4a6f-bc30-57224f90718d",
   "metadata": {},
   "source": [
    "# Visualize Conv Layers"
   ]
  },
  {
   "cell_type": "code",
   "execution_count": 1,
   "id": "cdcd3275-5afc-4067-be37-6d410bb6cd16",
   "metadata": {},
   "outputs": [
    {
     "name": "stderr",
     "output_type": "stream",
     "text": [
      "2022-04-10 17:15:10.579454: W tensorflow/stream_executor/platform/default/dso_loader.cc:64] Could not load dynamic library 'libcudart.so.11.0'; dlerror: libcudart.so.11.0: cannot open shared object file: No such file or directory\n",
      "2022-04-10 17:15:10.579496: I tensorflow/stream_executor/cuda/cudart_stub.cc:29] Ignore above cudart dlerror if you do not have a GPU set up on your machine.\n"
     ]
    },
    {
     "name": "stdout",
     "output_type": "stream",
     "text": [
      "\u001b[92mOK: TensorFlow >= 2.0.0.\u001b[0m\n"
     ]
    }
   ],
   "source": [
    "# First, import TF and get its version.\n",
    "import tensorflow as tf\n",
    "from tensorflow.keras import models\n",
    "tf_version = tf.__version__\n",
    "\n",
    "# Check if version >=2.0.0 is used\n",
    "if not tf_version.startswith('2.'):\n",
    "    print('\\033[91m' + 'WARNING: TensorFlow >= 2.0.0 will be used in this course.\\nYour version is {}'.format(tf_version) + '.\\033[0m')\n",
    "else:\n",
    "    print('\\033[92m' + 'OK: TensorFlow >= 2.0.0' + '.\\033[0m')"
   ]
  },
  {
   "cell_type": "code",
   "execution_count": 10,
   "id": "58f3f23d-12b3-412a-80bb-7220cc86ca59",
   "metadata": {},
   "outputs": [],
   "source": [
    "# Import libraries\n",
    "import numpy as np\n",
    "import pandas as pd\n",
    "import matplotlib.pyplot as plt\n",
    "from tensorflow.keras.datasets import cifar10\n",
    "from tensorflow.keras.models import Sequential\n",
    "from tensorflow.keras.layers import Dense, Dropout, Flatten, Activation\n",
    "from tensorflow.keras.layers import Conv2D, MaxPooling2D, BatchNormalization\n",
    "from tensorflow.keras import utils\n",
    "from sklearn.metrics import confusion_matrix\n",
    "\n",
    "%matplotlib inline"
   ]
  },
  {
   "cell_type": "code",
   "execution_count": 17,
   "id": "655458f9-dd17-47ff-9a57-e6feaa152257",
   "metadata": {},
   "outputs": [],
   "source": [
    "(X_train, y_train), (X_test, y_test) = cifar10.load_data()"
   ]
  },
  {
   "cell_type": "code",
   "execution_count": 18,
   "id": "90c81369-d59e-4d95-891d-6c9aa4cf4a0e",
   "metadata": {},
   "outputs": [
    {
     "name": "stdout",
     "output_type": "stream",
     "text": [
      "[[0. 0. 0. 0. 0. 0. 1. 0. 0. 0.]\n",
      " [0. 0. 0. 0. 0. 0. 0. 0. 0. 1.]\n",
      " [0. 0. 0. 0. 0. 0. 0. 0. 0. 1.]\n",
      " [0. 0. 0. 0. 1. 0. 0. 0. 0. 0.]\n",
      " [0. 1. 0. 0. 0. 0. 0. 0. 0. 0.]\n",
      " [0. 1. 0. 0. 0. 0. 0. 0. 0. 0.]\n",
      " [0. 0. 1. 0. 0. 0. 0. 0. 0. 0.]\n",
      " [0. 0. 0. 0. 0. 0. 0. 1. 0. 0.]\n",
      " [0. 0. 0. 0. 0. 0. 0. 0. 1. 0.]\n",
      " [0. 0. 0. 1. 0. 0. 0. 0. 0. 0.]]\n"
     ]
    }
   ],
   "source": [
    "n_classes = 10\n",
    "X_train = X_train.astype('float32')\n",
    "X_test = X_test.astype('float32')\n",
    "X_train /= 255.0\n",
    "X_test /= 255.0\n",
    "Y_train = utils.to_categorical(y_train, n_classes)\n",
    "Y_test = utils.to_categorical(y_test, n_classes)\n",
    "print(Y_train[:10])"
   ]
  },
  {
   "cell_type": "code",
   "execution_count": 19,
   "id": "993001d3-dc83-4024-8172-9dcd725eef01",
   "metadata": {},
   "outputs": [
    {
     "name": "stdout",
     "output_type": "stream",
     "text": [
      "(32, 32, 3)\n",
      "Model: \"sequential_5\"\n",
      "_________________________________________________________________\n",
      " Layer (type)                Output Shape              Param #   \n",
      "=================================================================\n",
      " conv2d_7 (Conv2D)           (None, 32, 32, 32)        896       \n",
      "                                                                 \n",
      " batch_normalization_3 (Batc  (None, 32, 32, 32)       128       \n",
      " hNormalization)                                                 \n",
      "                                                                 \n",
      " activation_3 (Activation)   (None, 32, 32, 32)        0         \n",
      "                                                                 \n",
      " conv2d_8 (Conv2D)           (None, 32, 32, 32)        9248      \n",
      "                                                                 \n",
      " batch_normalization_4 (Batc  (None, 32, 32, 32)       128       \n",
      " hNormalization)                                                 \n",
      "                                                                 \n",
      " activation_4 (Activation)   (None, 32, 32, 32)        0         \n",
      "                                                                 \n",
      " max_pooling2d_2 (MaxPooling  (None, 16, 16, 32)       0         \n",
      " 2D)                                                             \n",
      "                                                                 \n",
      " conv2d_9 (Conv2D)           (None, 16, 16, 32)        9248      \n",
      "                                                                 \n",
      " batch_normalization_5 (Batc  (None, 16, 16, 32)       128       \n",
      " hNormalization)                                                 \n",
      "                                                                 \n",
      " activation_5 (Activation)   (None, 16, 16, 32)        0         \n",
      "                                                                 \n",
      " max_pooling2d_3 (MaxPooling  (None, 8, 8, 32)         0         \n",
      " 2D)                                                             \n",
      "                                                                 \n",
      " flatten_1 (Flatten)         (None, 2048)              0         \n",
      "                                                                 \n",
      " dense_1 (Dense)             (None, 10)                20490     \n",
      "                                                                 \n",
      "=================================================================\n",
      "Total params: 40,266\n",
      "Trainable params: 40,074\n",
      "Non-trainable params: 192\n",
      "_________________________________________________________________\n"
     ]
    }
   ],
   "source": [
    "D = X_train.shape[1:]\n",
    "print(D)\n",
    "\n",
    "cnn = Sequential()\n",
    "cnn.add(Conv2D(32, kernel_size=3, input_shape=D, padding='same'))\n",
    "cnn.add(BatchNormalization())\n",
    "cnn.add(Activation('relu'))\n",
    "cnn.add(Conv2D(32, kernel_size=3, input_shape=D, padding='same'))\n",
    "cnn.add(BatchNormalization())\n",
    "cnn.add(Activation('relu'))\n",
    "cnn.add(MaxPooling2D(2))\n",
    "cnn.add(Conv2D(32, kernel_size=3, input_shape=D, padding='same'))\n",
    "cnn.add(BatchNormalization())\n",
    "cnn.add(Activation('relu'))\n",
    "cnn.add(MaxPooling2D(2))\n",
    "cnn.add(Flatten())\n",
    "cnn.add(Dense(n_classes, activation='softmax'))\n",
    "\n",
    "\n",
    "cnn.summary()"
   ]
  },
  {
   "cell_type": "code",
   "execution_count": 20,
   "id": "ce9c1967-6a5c-42a7-bb19-d84543981591",
   "metadata": {},
   "outputs": [
    {
     "name": "stdout",
     "output_type": "stream",
     "text": [
      "Epoch 1/10\n",
      "391/391 [==============================] - 61s 155ms/step - loss: 1.4064 - accuracy: 0.5023 - val_loss: 1.8130 - val_accuracy: 0.3423\n",
      "Epoch 2/10\n",
      "391/391 [==============================] - 60s 153ms/step - loss: 1.0072 - accuracy: 0.6462 - val_loss: 1.1717 - val_accuracy: 0.6026\n",
      "Epoch 3/10\n",
      "391/391 [==============================] - 60s 152ms/step - loss: 0.8805 - accuracy: 0.6954 - val_loss: 0.9726 - val_accuracy: 0.6646\n",
      "Epoch 4/10\n",
      "391/391 [==============================] - 60s 153ms/step - loss: 0.8045 - accuracy: 0.7219 - val_loss: 0.9715 - val_accuracy: 0.6654\n",
      "Epoch 5/10\n",
      "391/391 [==============================] - 60s 152ms/step - loss: 0.7524 - accuracy: 0.7409 - val_loss: 0.9494 - val_accuracy: 0.6740\n",
      "Epoch 6/10\n",
      "391/391 [==============================] - 60s 153ms/step - loss: 0.7126 - accuracy: 0.7538 - val_loss: 0.8501 - val_accuracy: 0.7094\n",
      "Epoch 7/10\n",
      "391/391 [==============================] - 59s 151ms/step - loss: 0.6820 - accuracy: 0.7649 - val_loss: 1.2060 - val_accuracy: 0.6267\n",
      "Epoch 8/10\n",
      "391/391 [==============================] - 59s 150ms/step - loss: 0.6462 - accuracy: 0.7766 - val_loss: 0.8347 - val_accuracy: 0.7113\n",
      "Epoch 9/10\n",
      "391/391 [==============================] - 61s 156ms/step - loss: 0.6202 - accuracy: 0.7851 - val_loss: 0.8658 - val_accuracy: 0.7070\n",
      "Epoch 10/10\n",
      "391/391 [==============================] - 60s 154ms/step - loss: 0.5920 - accuracy: 0.7952 - val_loss: 0.9498 - val_accuracy: 0.6891\n"
     ]
    }
   ],
   "source": [
    "cnn.compile(loss='categorical_crossentropy', optimizer='adam', metrics=['accuracy'])\n",
    "log = cnn.fit(X_train, Y_train, batch_size=128, epochs=10, verbose=1, validation_data=(X_test, Y_test))"
   ]
  },
  {
   "cell_type": "code",
   "execution_count": 71,
   "id": "d922dc1e-e807-40ae-a95e-e926adfbb606",
   "metadata": {},
   "outputs": [],
   "source": [
    "def show_filters(model, layer_nr, test_im):\n",
    "    output =  model.layers[layer_nr].output\n",
    "    activation_model = models.Model(inputs=model.input, outputs=output)\n",
    "    test_im = test_im.reshape(1,32,32,-1)\n",
    "    num_filters = output.shape[3]\n",
    "    print(num_filters)\n",
    "    plt.subplot(1,num_filters,1)\n",
    "\n",
    "    print(test_im.shape)\n",
    "    activation = activation_model.predict(test_im)\n",
    "    print(activation.shape)\n",
    "    print(activation[0, :, :, 0])\n",
    "    \n",
    "    for i in range(num_filters):\n",
    "        print(f'input is {i}')\n",
    "        print(activation.shape)\n",
    "        data = activation[0, :, :, num_filters]\n",
    "        print(data)\n",
    "        # display 6 of the activations of the 1st conv layer\n",
    "        plt.matshow(activation[0, :, :, num_filters], cmap='Greys')\n"
   ]
  },
  {
   "cell_type": "code",
   "execution_count": 72,
   "id": "075f9167-e711-4e96-9111-bb13b8504bfc",
   "metadata": {},
   "outputs": [
    {
     "name": "stdout",
     "output_type": "stream",
     "text": [
      "32\n",
      "(1, 32, 32, 3)\n",
      "(1, 32, 32, 32)\n",
      "[[-0.40483403 -0.17292431 -0.18686025 ... -0.1368731  -0.12811542\n",
      "   0.00992521]\n",
      " [-0.35085368 -0.10453141 -0.11814193 ... -0.08667679 -0.08012021\n",
      "   0.05890208]\n",
      " [-0.35392475 -0.11084239 -0.12277881 ... -0.09317951 -0.08663334\n",
      "   0.0616753 ]\n",
      " ...\n",
      " [-0.3441543  -0.13502271 -0.15203837 ... -0.0894962  -0.14689691\n",
      "  -0.08261077]\n",
      " [-0.33119065 -0.16603771 -0.15778154 ... -0.09939879 -0.1708319\n",
      "  -0.06250197]\n",
      " [-0.14727066 -0.02206569 -0.02729648 ... -0.03900842 -0.04700314\n",
      "   0.0098539 ]]\n",
      "input is 0\n",
      "(1, 32, 32, 32)\n"
     ]
    },
    {
     "ename": "IndexError",
     "evalue": "index 32 is out of bounds for axis 3 with size 32",
     "output_type": "error",
     "traceback": [
      "\u001b[0;31m---------------------------------------------------------------------------\u001b[0m",
      "\u001b[0;31mIndexError\u001b[0m                                Traceback (most recent call last)",
      "Input \u001b[0;32mIn [72]\u001b[0m, in \u001b[0;36m<module>\u001b[0;34m\u001b[0m\n\u001b[0;32m----> 1\u001b[0m \u001b[43mshow_filters\u001b[49m\u001b[43m(\u001b[49m\u001b[43mcnn\u001b[49m\u001b[43m,\u001b[49m\u001b[43m \u001b[49m\u001b[38;5;241;43m0\u001b[39;49m\u001b[43m,\u001b[49m\u001b[43m \u001b[49m\u001b[43mX_test\u001b[49m\u001b[43m[\u001b[49m\u001b[38;5;241;43m0\u001b[39;49m\u001b[43m]\u001b[49m\u001b[43m)\u001b[49m\n",
      "Input \u001b[0;32mIn [71]\u001b[0m, in \u001b[0;36mshow_filters\u001b[0;34m(model, layer_nr, test_im)\u001b[0m\n\u001b[1;32m     15\u001b[0m \u001b[38;5;28mprint\u001b[39m(\u001b[38;5;124mf\u001b[39m\u001b[38;5;124m'\u001b[39m\u001b[38;5;124minput is \u001b[39m\u001b[38;5;132;01m{\u001b[39;00mi\u001b[38;5;132;01m}\u001b[39;00m\u001b[38;5;124m'\u001b[39m)\n\u001b[1;32m     16\u001b[0m \u001b[38;5;28mprint\u001b[39m(activation\u001b[38;5;241m.\u001b[39mshape)\n\u001b[0;32m---> 17\u001b[0m data \u001b[38;5;241m=\u001b[39m \u001b[43mactivation\u001b[49m\u001b[43m[\u001b[49m\u001b[38;5;241;43m0\u001b[39;49m\u001b[43m,\u001b[49m\u001b[43m \u001b[49m\u001b[43m:\u001b[49m\u001b[43m,\u001b[49m\u001b[43m \u001b[49m\u001b[43m:\u001b[49m\u001b[43m,\u001b[49m\u001b[43m \u001b[49m\u001b[43mnum_filters\u001b[49m\u001b[43m]\u001b[49m\n\u001b[1;32m     18\u001b[0m \u001b[38;5;28mprint\u001b[39m(data)\n\u001b[1;32m     19\u001b[0m \u001b[38;5;66;03m# display 6 of the activations of the 1st conv layer\u001b[39;00m\n",
      "\u001b[0;31mIndexError\u001b[0m: index 32 is out of bounds for axis 3 with size 32"
     ]
    },
    {
     "data": {
      "image/png": "[encoded data removed]",
      "text/plain": [
       "<Figure size 432x288 with 1 Axes>"
      ]
     },
     "metadata": {
      "needs_background": "light"
     },
     "output_type": "display_data"
    }
   ],
   "source": [
    "show_filters(cnn, 0, X_test[0])"
   ]
  },
  {
   "cell_type": "code",
   "execution_count": null,
   "id": "75072aec-caf7-480c-bca9-cab7047fcbdc",
   "metadata": {},
   "outputs": [],
   "source": []
  }
 ],
 "metadata": {
  "kernelspec": {
   "display_name": "Python 3 (ipykernel)",
   "language": "python",
   "name": "python3"
  },
  "language_info": {
   "codemirror_mode": {
    "name": "ipython",
    "version": 3
   },
   "file_extension": ".py",
   "mimetype": "text/x-python",
   "name": "python",
   "nbconvert_exporter": "python",
   "pygments_lexer": "ipython3",
   "version": "3.9.7"
  }
 },
 "nbformat": 4,
 "nbformat_minor": 5
}
