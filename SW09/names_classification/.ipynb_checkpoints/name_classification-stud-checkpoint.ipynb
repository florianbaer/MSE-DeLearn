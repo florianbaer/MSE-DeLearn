{
 "cells": [
  {
   "cell_type": "code",
   "execution_count": 1,
   "metadata": {
    "scrolled": true
   },
   "outputs": [],
   "source": [
    "import glob\n",
    "import os\n",
    "import string\n",
    "\n",
    "import numpy as np\n",
    "import pandas as pd\n",
    "\n",
    "from matplotlib import pyplot as plt\n",
    "import matplotlib.ticker as ticker\n",
    "\n",
    "from sklearn.metrics import confusion_matrix"
   ]
  },
  {
   "cell_type": "markdown",
   "metadata": {},
   "source": [
    "### Load Data\n",
    "\n",
    "The names can be found in text files in a src directory, one file per language.\n",
    "\n",
    "In the following you can find some utilities to load the data into pandas data frames. \n",
    "\n",
    "We will restrict to some common European languages. \n",
    "\n",
    "With the given selection, we will identify all the occurring characters and initialize an alphabet.<br>\n",
    "For this alphabet, we will use a one-hot-encoding to map them into a vector space representation. \n",
    "\n",
    "Foresee a suitable character for the end of the word, e.g. 'END'."
   ]
  },
  {
   "cell_type": "code",
   "execution_count": 42,
   "metadata": {},
   "outputs": [],
   "source": [
    "srcdir = 'data/names'\n",
    "languages = [\"English\",\"French\",\"Italian\",\"German\",\"Spanish\"]\n",
    "n_languages = len(languages)"
   ]
  },
  {
   "cell_type": "code",
   "execution_count": 3,
   "metadata": {},
   "outputs": [],
   "source": [
    "# inspect the data directory\n",
    "def findFiles(path): \n",
    "    return glob.glob(path)"
   ]
  },
  {
   "cell_type": "code",
   "execution_count": 4,
   "metadata": {},
   "outputs": [
    {
     "name": "stdout",
     "output_type": "stream",
     "text": [
      "data/names/Czech.txt\n",
      "data/names/German.txt\n",
      "data/names/Arabic.txt\n",
      "data/names/Japanese.txt\n",
      "data/names/Chinese.txt\n",
      "data/names/Vietnamese.txt\n",
      "data/names/Russian.txt\n",
      "data/names/French.txt\n",
      "data/names/Irish.txt\n",
      "data/names/English.txt\n",
      "data/names/Spanish.txt\n",
      "data/names/Greek.txt\n",
      "data/names/Italian.txt\n",
      "data/names/Portuguese.txt\n",
      "data/names/Scottish.txt\n",
      "data/names/Dutch.txt\n",
      "data/names/Korean.txt\n",
      "data/names/Polish.txt\n"
     ]
    }
   ],
   "source": [
    "print('\\n'.join(findFiles(os.path.join(srcdir,'*.txt'))))"
   ]
  },
  {
   "cell_type": "code",
   "execution_count": 5,
   "metadata": {},
   "outputs": [],
   "source": [
    "# Read a file and split into lines\n",
    "def readLines(filename):\n",
    "    lines = open(filename, encoding='utf-8').read().strip().split('\\n')\n",
    "    return lines\n",
    "\n",
    "def load_data(srcdir, categories=None):\n",
    "    names_list = []\n",
    "    for filename in findFiles(os.path.join(srcdir,'*.txt')):\n",
    "        category = os.path.splitext(os.path.basename(filename))[0]\n",
    "        if not categories or category in categories: \n",
    "            names = readLines(filename)\n",
    "            names_list.extend([(name,category) for name in names])\n",
    "    df = pd.DataFrame(names_list)\n",
    "    df.columns = [\"name\",\"lang\"]\n",
    "    return df"
   ]
  },
  {
   "cell_type": "code",
   "execution_count": 6,
   "metadata": {},
   "outputs": [
    {
     "data": {
      "text/html": [
       "<div>\n",
       "<style scoped>\n",
       "    .dataframe tbody tr th:only-of-type {\n",
       "        vertical-align: middle;\n",
       "    }\n",
       "\n",
       "    .dataframe tbody tr th {\n",
       "        vertical-align: top;\n",
       "    }\n",
       "\n",
       "    .dataframe thead th {\n",
       "        text-align: right;\n",
       "    }\n",
       "</style>\n",
       "<table border=\"1\" class=\"dataframe\">\n",
       "  <thead>\n",
       "    <tr style=\"text-align: right;\">\n",
       "      <th></th>\n",
       "      <th>name</th>\n",
       "      <th>lang</th>\n",
       "    </tr>\n",
       "  </thead>\n",
       "  <tbody>\n",
       "    <tr>\n",
       "      <th>0</th>\n",
       "      <td>Abbing</td>\n",
       "      <td>German</td>\n",
       "    </tr>\n",
       "    <tr>\n",
       "      <th>1</th>\n",
       "      <td>Abel</td>\n",
       "      <td>German</td>\n",
       "    </tr>\n",
       "    <tr>\n",
       "      <th>2</th>\n",
       "      <td>Abeln</td>\n",
       "      <td>German</td>\n",
       "    </tr>\n",
       "    <tr>\n",
       "      <th>3</th>\n",
       "      <td>Abt</td>\n",
       "      <td>German</td>\n",
       "    </tr>\n",
       "    <tr>\n",
       "      <th>4</th>\n",
       "      <td>Achilles</td>\n",
       "      <td>German</td>\n",
       "    </tr>\n",
       "  </tbody>\n",
       "</table>\n",
       "</div>"
      ],
      "text/plain": [
       "       name    lang\n",
       "0    Abbing  German\n",
       "1      Abel  German\n",
       "2     Abeln  German\n",
       "3       Abt  German\n",
       "4  Achilles  German"
      ]
     },
     "execution_count": 6,
     "metadata": {},
     "output_type": "execute_result"
    }
   ],
   "source": [
    "names = load_data(srcdir,categories=languages)\n",
    "names.head()"
   ]
  },
  {
   "cell_type": "code",
   "execution_count": 7,
   "metadata": {},
   "outputs": [
    {
     "name": "stdout",
     "output_type": "stream",
     "text": [
      "Maximum name length:  18\n"
     ]
    }
   ],
   "source": [
    "maxlen = np.max([len(name) for name in names.name])\n",
    "print(\"Maximum name length: \", maxlen)"
   ]
  },
  {
   "cell_type": "code",
   "execution_count": 8,
   "metadata": {},
   "outputs": [
    {
     "name": "stdout",
     "output_type": "stream",
     "text": [
      "Size of alphabet:  74\n",
      "[' ', \"'\", 'A', 'B', 'C', 'D', 'E', 'F', 'G', 'H', 'I', 'J', 'K', 'L', 'M', 'N', 'O', 'P', 'Q', 'R', 'S', 'T', 'U', 'V', 'W', 'X', 'Y', 'Z', 'a', 'b', 'c', 'd', 'e', 'f', 'g', 'h', 'i', 'j', 'k', 'l', 'm', 'n', 'o', 'p', 'q', 'r', 's', 't', 'u', 'v', 'w', 'x', 'y', 'z', 'Á', 'É', 'ß', 'à', 'á', 'ä', 'ç', 'è', 'é', 'ê', 'ì', 'í', 'ñ', 'ò', 'ó', 'ö', 'ù', 'ú', 'ü', 'END']\n"
     ]
    }
   ],
   "source": [
    "alphabet = sorted(list(set(''.join([name for name in names.name]))))\n",
    "alphabet.append('END')\n",
    "len_alphabet = len(alphabet)\n",
    "char_index = dict((c, i) for i, c in enumerate(alphabet))\n",
    "print(\"Size of alphabet: \",len_alphabet)\n",
    "print(alphabet)"
   ]
  },
  {
   "cell_type": "code",
   "execution_count": 9,
   "metadata": {},
   "outputs": [
    {
     "data": {
      "text/plain": [
       "lang\n",
       "English    0.646230\n",
       "French     0.048802\n",
       "German     0.127555\n",
       "Italian    0.124912\n",
       "Spanish    0.052502\n",
       "Name: name, dtype: float64"
      ]
     },
     "execution_count": 9,
     "metadata": {},
     "output_type": "execute_result"
    }
   ],
   "source": [
    "names.groupby('lang')['name'].count()/len(names)"
   ]
  },
  {
   "cell_type": "markdown",
   "metadata": {},
   "source": [
    "### Vector Representations\n",
    "\n",
    "Now construct the vector representation by using one-hot-vectors. "
   ]
  },
  {
   "cell_type": "code",
   "execution_count": 68,
   "metadata": {},
   "outputs": [],
   "source": [
    "language_to_index = {country:index for index,country in enumerate(names.lang.unique())}\n",
    "index_to_language = {index:country for index,country in enumerate(names.lang.unique())}\n",
    "\n",
    "def onehot(i, length):\n",
    "    v = np.zeros(length);\n",
    "    v[i] = 1\n",
    "    return v\n",
    "\n",
    "def name_representation(name, maxlen):\n",
    "    ### START YOUR CODE\n",
    "    name_trunc = str(name)[0:maxlen]\n",
    "    size = len(char_index)\n",
    "    vector = [onehot(char_index[j], size) for j in str(name)]\n",
    "    # fill the rest with \n",
    "    for k in range(0,maxlen - len(str(name))):\n",
    "        vector.append(onehot(char_index['END'], size))\n",
    "    return vector\n",
    "    ### START YOUR CODE\n",
    "\n",
    "def lang_representation(language, language_to_index):\n",
    "    y = np.zeros(len(language_to_index))\n",
    "    y[language_to_index[language]]=1\n",
    "    return y\n",
    "\n",
    "def lang_from_output(score):\n",
    "    return index_to_language[np.argmax(score)]\n",
    "\n",
    "def predict(name, model):\n",
    "    score = model.predict(np.array([name_representation(name, maxlen)]))[0]\n",
    "    return lang_from_output(score)"
   ]
  },
  {
   "cell_type": "markdown",
   "metadata": {},
   "source": [
    "### Prepare train/test\n",
    "\n",
    "Split the data into train/test\n",
    "\n",
    "Shuffle the data\n",
    "\n",
    "Transform the names data into a suitable vector respresentation:\n",
    "* names into numpy arrays of shape (*,maxlen,len_alphabet)\n",
    "* language into numpy array of shape (*,len(languages))\n",
    "\n"
   ]
  },
  {
   "cell_type": "code",
   "execution_count": 69,
   "metadata": {},
   "outputs": [],
   "source": [
    "from sklearn.model_selection import train_test_split\n",
    "from sklearn.utils import shuffle\n",
    "\n",
    "test_split = 0.2\n",
    "\n",
    "### START YOUR CODE\n",
    "# Shuffle and split names data\n",
    "names = shuffle(names)\n",
    "\n",
    "train, test = train_test_split(names, test_size=test_split)\n",
    "\n",
    "### END YOUR CODE"
   ]
  },
  {
   "cell_type": "code",
   "execution_count": 77,
   "metadata": {},
   "outputs": [
    {
     "name": "stdout",
     "output_type": "stream",
     "text": [
      "(4540, 18, 74)\n"
     ]
    }
   ],
   "source": [
    "### START YOUR CODE\n",
    "\n",
    "# Map train and test data into vector space (one-hot-vectors)\n",
    "X_train = np.array([name_representation(name, maxlen) for name in train['name']])\n",
    "Y_train = np.array([lang_representation(language, language_to_index) for language in train['lang']])\n",
    "\n",
    "X_test = np.array([name_representation(name, maxlen)  for name in test['name']])\n",
    "Y_test = np.array([lang_representation(language, language_to_index)  for language in test['lang']])\n",
    "print(X_train.shape)\n",
    "### END YOUR CODE"
   ]
  },
  {
   "cell_type": "markdown",
   "metadata": {},
   "source": [
    "Possibly, pack the data into a Dataset (e.g. when working with in PyTorch)"
   ]
  },
  {
   "cell_type": "markdown",
   "metadata": {},
   "source": [
    "### Define and Train Model: Single Layer with SimpleRNN\n",
    "\n",
    "Create an RNN consisting of a single layer with a SimpleRNN (keras) and a softmax.\n",
    "\n",
    "Then train the model. Play with different number of hidden units in the layer to obtain a good accuracy."
   ]
  },
  {
   "cell_type": "code",
   "execution_count": 82,
   "metadata": {
    "tags": []
   },
   "outputs": [
    {
     "name": "stdout",
     "output_type": "stream",
     "text": [
      "Model: \"sequential_7\"\n",
      "_________________________________________________________________\n",
      " Layer (type)                Output Shape              Param #   \n",
      "=================================================================\n",
      " simple_rnn_6 (SimpleRNN)    (None, 64)                8896      \n",
      "                                                                 \n",
      " dense_5 (Dense)             (None, 5)                 325       \n",
      "                                                                 \n",
      "=================================================================\n",
      "Total params: 9,221\n",
      "Trainable params: 9,221\n",
      "Non-trainable params: 0\n",
      "_________________________________________________________________\n"
     ]
    }
   ],
   "source": [
    "import tensorflow as tf\n",
    "from tensorflow import keras\n",
    "from tensorflow.keras.layers import Dense, Dropout, SimpleRNN, Activation\n",
    "### START YOUR CODE\n",
    "\n",
    "# SimpleRNN, single layer with tf.keras....\n",
    "n_hidden = 64\n",
    "model = keras.Sequential()\n",
    "model.add(SimpleRNN(units=n_hidden, input_shape=(maxlen, len_alphabet)))\n",
    "model.add(Dense(n_languages, activation='softmax'))\n",
    "model.compile(loss='categorical_crossentropy', optimizer='adam', metrics=['accuracy'])\n",
    "\n",
    "model.summary()\n",
    "\n",
    "\n",
    "### END YOUR CODE"
   ]
  },
  {
   "cell_type": "code",
   "execution_count": 83,
   "metadata": {},
   "outputs": [
    {
     "name": "stdout",
     "output_type": "stream",
     "text": [
      "Epoch 1/15\n"
     ]
    },
    {
     "name": "stderr",
     "output_type": "stream",
     "text": [
      "2022-04-24 13:19:23.017048: I tensorflow/core/grappler/optimizers/custom_graph_optimizer_registry.cc:113] Plugin optimizer for device_type GPU is enabled.\n"
     ]
    },
    {
     "name": "stdout",
     "output_type": "stream",
     "text": [
      "71/71 [==============================] - ETA: 0s - loss: 1.0822 - accuracy: 0.6447"
     ]
    },
    {
     "name": "stderr",
     "output_type": "stream",
     "text": [
      "2022-04-24 13:19:30.746923: I tensorflow/core/grappler/optimizers/custom_graph_optimizer_registry.cc:113] Plugin optimizer for device_type GPU is enabled.\n"
     ]
    },
    {
     "name": "stdout",
     "output_type": "stream",
     "text": [
      "71/71 [==============================] - 9s 114ms/step - loss: 1.0822 - accuracy: 0.6447 - val_loss: 0.9504 - val_accuracy: 0.6787\n",
      "Epoch 2/15\n",
      "71/71 [==============================] - 8s 111ms/step - loss: 0.8559 - accuracy: 0.7053 - val_loss: 0.8177 - val_accuracy: 0.7113\n",
      "Epoch 3/15\n",
      "71/71 [==============================] - 8s 115ms/step - loss: 0.7652 - accuracy: 0.7236 - val_loss: 0.7698 - val_accuracy: 0.7315\n",
      "Epoch 4/15\n",
      "71/71 [==============================] - 8s 119ms/step - loss: 0.7201 - accuracy: 0.7396 - val_loss: 0.7255 - val_accuracy: 0.7377\n",
      "Epoch 5/15\n",
      "71/71 [==============================] - 8s 112ms/step - loss: 0.6784 - accuracy: 0.7555 - val_loss: 0.7442 - val_accuracy: 0.7227\n",
      "Epoch 6/15\n",
      "71/71 [==============================] - 8s 112ms/step - loss: 0.6471 - accuracy: 0.7742 - val_loss: 0.6840 - val_accuracy: 0.7658\n",
      "Epoch 7/15\n",
      "71/71 [==============================] - 8s 112ms/step - loss: 0.6253 - accuracy: 0.7819 - val_loss: 0.6723 - val_accuracy: 0.7606\n",
      "Epoch 8/15\n",
      "71/71 [==============================] - 8s 116ms/step - loss: 0.6075 - accuracy: 0.7806 - val_loss: 0.6524 - val_accuracy: 0.7755\n",
      "Epoch 9/15\n",
      "71/71 [==============================] - 8s 113ms/step - loss: 0.5836 - accuracy: 0.7943 - val_loss: 0.6894 - val_accuracy: 0.7570\n",
      "Epoch 10/15\n",
      "71/71 [==============================] - 8s 114ms/step - loss: 0.5651 - accuracy: 0.7963 - val_loss: 0.6466 - val_accuracy: 0.7711\n",
      "Epoch 11/15\n",
      "71/71 [==============================] - 9s 120ms/step - loss: 0.5513 - accuracy: 0.8048 - val_loss: 0.6629 - val_accuracy: 0.7702\n",
      "Epoch 12/15\n",
      "71/71 [==============================] - 8s 113ms/step - loss: 0.5254 - accuracy: 0.8139 - val_loss: 0.6315 - val_accuracy: 0.7843\n",
      "Epoch 13/15\n",
      "71/71 [==============================] - 8s 111ms/step - loss: 0.5134 - accuracy: 0.8132 - val_loss: 0.6381 - val_accuracy: 0.7764\n",
      "Epoch 14/15\n",
      "71/71 [==============================] - 8s 112ms/step - loss: 0.5081 - accuracy: 0.8159 - val_loss: 0.6445 - val_accuracy: 0.7826\n",
      "Epoch 15/15\n",
      "71/71 [==============================] - 8s 112ms/step - loss: 0.4798 - accuracy: 0.8271 - val_loss: 0.6373 - val_accuracy: 0.7799\n"
     ]
    }
   ],
   "source": [
    "### START YOUR CODE\n",
    "batch_size= 64\n",
    "nepochs = 15\n",
    "\n",
    "log = model.fit(X_train, Y_train, batch_size=batch_size, epochs=nepochs, validation_data=(X_test, Y_test))\n",
    "\n",
    "\n",
    "### END YOUR CODE"
   ]
  },
  {
   "cell_type": "code",
   "execution_count": 84,
   "metadata": {},
   "outputs": [
    {
     "data": {
      "image/png": "[encoded data removed]",
      "text/plain": [
       "<Figure size 864x288 with 2 Axes>"
      ]
     },
     "metadata": {
      "needs_background": "light"
     },
     "output_type": "display_data"
    }
   ],
   "source": [
    "f = plt.figure(figsize=(12,4))\n",
    "ax1 = f.add_subplot(121)\n",
    "ax2 = f.add_subplot(122)\n",
    "ax1.plot(log.history['loss'], label='Training loss')\n",
    "ax1.plot(log.history['val_loss'], label='Testing loss')\n",
    "ax1.legend()\n",
    "ax1.grid()\n",
    "ax2.plot(log.history['accuracy'], label='Training acc')\n",
    "ax2.plot(log.history['val_accuracy'], label='Testing acc')\n",
    "ax2.legend()\n",
    "ax2.grid()"
   ]
  },
  {
   "cell_type": "markdown",
   "metadata": {
    "tags": []
   },
   "source": [
    "#### Findings"
   ]
  },
  {
   "cell_type": "markdown",
   "metadata": {},
   "source": [
    "There was a overfitting starting about Epoch 15, so i changed the epochs from 50 to 15."
   ]
  },
  {
   "cell_type": "markdown",
   "metadata": {},
   "source": [
    "### Implement Model with several SimpleRNN Layers"
   ]
  },
  {
   "cell_type": "code",
   "execution_count": 85,
   "metadata": {
    "tags": []
   },
   "outputs": [
    {
     "name": "stdout",
     "output_type": "stream",
     "text": [
      "Model: \"sequential_8\"\n",
      "_________________________________________________________________\n",
      " Layer (type)                Output Shape              Param #   \n",
      "=================================================================\n",
      " simple_rnn_7 (SimpleRNN)    (None, 18, 64)            8896      \n",
      "                                                                 \n",
      " simple_rnn_8 (SimpleRNN)    (None, 64)                8256      \n",
      "                                                                 \n",
      " dense_6 (Dense)             (None, 5)                 325       \n",
      "                                                                 \n",
      "=================================================================\n",
      "Total params: 17,477\n",
      "Trainable params: 17,477\n",
      "Non-trainable params: 0\n",
      "_________________________________________________________________\n",
      "Epoch 1/15\n"
     ]
    },
    {
     "name": "stderr",
     "output_type": "stream",
     "text": [
      "2022-04-24 13:25:17.857271: I tensorflow/core/grappler/optimizers/custom_graph_optimizer_registry.cc:113] Plugin optimizer for device_type GPU is enabled.\n"
     ]
    },
    {
     "name": "stdout",
     "output_type": "stream",
     "text": [
      "71/71 [==============================] - ETA: 0s - loss: 1.0318 - accuracy: 0.6487"
     ]
    },
    {
     "name": "stderr",
     "output_type": "stream",
     "text": [
      "2022-04-24 13:25:36.186954: I tensorflow/core/grappler/optimizers/custom_graph_optimizer_registry.cc:113] Plugin optimizer for device_type GPU is enabled.\n"
     ]
    },
    {
     "name": "stdout",
     "output_type": "stream",
     "text": [
      "71/71 [==============================] - 20s 266ms/step - loss: 1.0318 - accuracy: 0.6487 - val_loss: 0.8682 - val_accuracy: 0.6954\n",
      "Epoch 2/15\n",
      "71/71 [==============================] - 18s 257ms/step - loss: 0.7912 - accuracy: 0.7240 - val_loss: 0.7674 - val_accuracy: 0.7210\n",
      "Epoch 3/15\n",
      "71/71 [==============================] - 18s 257ms/step - loss: 0.7215 - accuracy: 0.7423 - val_loss: 0.7326 - val_accuracy: 0.7403\n",
      "Epoch 4/15\n",
      "71/71 [==============================] - 18s 260ms/step - loss: 0.6578 - accuracy: 0.7652 - val_loss: 0.6828 - val_accuracy: 0.7579\n",
      "Epoch 5/15\n",
      "71/71 [==============================] - 18s 260ms/step - loss: 0.6126 - accuracy: 0.7753 - val_loss: 0.7401 - val_accuracy: 0.7386\n",
      "Epoch 6/15\n",
      "71/71 [==============================] - 18s 254ms/step - loss: 0.5972 - accuracy: 0.7795 - val_loss: 0.6788 - val_accuracy: 0.7465\n",
      "Epoch 7/15\n",
      "71/71 [==============================] - 18s 255ms/step - loss: 0.5614 - accuracy: 0.7954 - val_loss: 0.7093 - val_accuracy: 0.7526\n",
      "Epoch 8/15\n",
      "71/71 [==============================] - 18s 259ms/step - loss: 0.5228 - accuracy: 0.8084 - val_loss: 0.6811 - val_accuracy: 0.7544\n",
      "Epoch 9/15\n",
      "71/71 [==============================] - 18s 258ms/step - loss: 0.5213 - accuracy: 0.8119 - val_loss: 0.6442 - val_accuracy: 0.7738\n",
      "Epoch 10/15\n",
      "71/71 [==============================] - 18s 258ms/step - loss: 0.4850 - accuracy: 0.8222 - val_loss: 0.6902 - val_accuracy: 0.7535\n",
      "Epoch 11/15\n",
      "71/71 [==============================] - 19s 265ms/step - loss: 0.4510 - accuracy: 0.8379 - val_loss: 0.6484 - val_accuracy: 0.7702\n",
      "Epoch 12/15\n",
      "71/71 [==============================] - 18s 261ms/step - loss: 0.4219 - accuracy: 0.8441 - val_loss: 0.6463 - val_accuracy: 0.7738\n",
      "Epoch 13/15\n",
      "71/71 [==============================] - 19s 262ms/step - loss: 0.3993 - accuracy: 0.8542 - val_loss: 0.6699 - val_accuracy: 0.7667\n",
      "Epoch 14/15\n",
      "71/71 [==============================] - 18s 257ms/step - loss: 0.3782 - accuracy: 0.8672 - val_loss: 0.6766 - val_accuracy: 0.7782\n",
      "Epoch 15/15\n",
      "71/71 [==============================] - 18s 257ms/step - loss: 0.3530 - accuracy: 0.8802 - val_loss: 0.7067 - val_accuracy: 0.7667\n"
     ]
    },
    {
     "data": {
      "image/png": "[encoded data removed]",
      "text/plain": [
       "<Figure size 864x288 with 2 Axes>"
      ]
     },
     "metadata": {
      "needs_background": "light"
     },
     "output_type": "display_data"
    }
   ],
   "source": [
    "### START YOUR CODE\n",
    "\n",
    "n_hidden = 64\n",
    "model = keras.Sequential()\n",
    "model.add(SimpleRNN(units=n_hidden, input_shape=(maxlen, len_alphabet), return_sequences=True))\n",
    "model.add(SimpleRNN(units=n_hidden, input_shape=(maxlen, len_alphabet)))\n",
    "model.add(Dense(n_languages, activation='softmax'))\n",
    "model.compile(loss='categorical_crossentropy', optimizer='adam', metrics=['accuracy'])\n",
    "\n",
    "model.summary()\n",
    "batch_size= 64\n",
    "nepochs = 15\n",
    "\n",
    "log = model.fit(X_train, Y_train, batch_size=batch_size, epochs=nepochs, validation_data=(X_test, Y_test))\n",
    "f = plt.figure(figsize=(12,4))\n",
    "ax1 = f.add_subplot(121)\n",
    "ax2 = f.add_subplot(122)\n",
    "ax1.plot(log.history['loss'], label='Training loss')\n",
    "ax1.plot(log.history['val_loss'], label='Testing loss')\n",
    "ax1.legend()\n",
    "ax1.grid()\n",
    "ax2.plot(log.history['accuracy'], label='Training acc')\n",
    "ax2.plot(log.history['val_accuracy'], label='Testing acc')\n",
    "ax2.legend()\n",
    "ax2.grid()\n",
    "\n",
    "### END YOUR CODE"
   ]
  },
  {
   "cell_type": "code",
   "execution_count": null,
   "metadata": {},
   "outputs": [
    {
     "name": "stdout",
     "output_type": "stream",
     "text": [
      "Model: \"sequential_9\"\n",
      "_________________________________________________________________\n",
      " Layer (type)                Output Shape              Param #   \n",
      "=================================================================\n",
      " simple_rnn_9 (SimpleRNN)    (None, 18, 64)            8896      \n",
      "                                                                 \n",
      " simple_rnn_10 (SimpleRNN)   (None, 18, 64)            8256      \n",
      "                                                                 \n",
      " simple_rnn_11 (SimpleRNN)   (None, 64)                8256      \n",
      "                                                                 \n",
      " dense_7 (Dense)             (None, 5)                 325       \n",
      "                                                                 \n",
      "=================================================================\n",
      "Total params: 25,733\n",
      "Trainable params: 25,733\n",
      "Non-trainable params: 0\n",
      "_________________________________________________________________\n",
      "Epoch 1/15\n"
     ]
    },
    {
     "name": "stderr",
     "output_type": "stream",
     "text": [
      "2022-04-24 13:29:54.644076: I tensorflow/core/grappler/optimizers/custom_graph_optimizer_registry.cc:113] Plugin optimizer for device_type GPU is enabled.\n"
     ]
    },
    {
     "name": "stdout",
     "output_type": "stream",
     "text": [
      "71/71 [==============================] - ETA: 0s - loss: 1.0419 - accuracy: 0.6553"
     ]
    },
    {
     "name": "stderr",
     "output_type": "stream",
     "text": [
      "2022-04-24 13:30:22.922644: I tensorflow/core/grappler/optimizers/custom_graph_optimizer_registry.cc:113] Plugin optimizer for device_type GPU is enabled.\n"
     ]
    },
    {
     "name": "stdout",
     "output_type": "stream",
     "text": [
      "71/71 [==============================] - 30s 410ms/step - loss: 1.0419 - accuracy: 0.6553 - val_loss: 0.9138 - val_accuracy: 0.6875\n",
      "Epoch 2/15\n",
      "71/71 [==============================] - 29s 414ms/step - loss: 0.7963 - accuracy: 0.7289 - val_loss: 0.7733 - val_accuracy: 0.7245\n",
      "Epoch 3/15\n",
      "71/71 [==============================] - 29s 414ms/step - loss: 0.7024 - accuracy: 0.7577 - val_loss: 0.7151 - val_accuracy: 0.7359\n",
      "Epoch 4/15\n",
      "71/71 [==============================] - 29s 411ms/step - loss: 0.6340 - accuracy: 0.7749 - val_loss: 0.6967 - val_accuracy: 0.7535\n",
      "Epoch 5/15\n",
      "43/71 [=================>............] - ETA: 10s - loss: 0.5937 - accuracy: 0.7936"
     ]
    }
   ],
   "source": [
    "### START YOUR CODE\n",
    "\n",
    "n_hidden = 64\n",
    "model = keras.Sequential()\n",
    "model.add(SimpleRNN(units=n_hidden, input_shape=(maxlen, len_alphabet), return_sequences=True))\n",
    "model.add(SimpleRNN(units=n_hidden, input_shape=(maxlen, len_alphabet), return_sequences=True))\n",
    "model.add(SimpleRNN(units=n_hidden, input_shape=(maxlen, len_alphabet)))\n",
    "model.add(Dense(n_languages, activation='softmax'))\n",
    "model.compile(loss='categorical_crossentropy', optimizer='adam', metrics=['accuracy'])\n",
    "\n",
    "model.summary()\n",
    "batch_size= 64\n",
    "nepochs = 15\n",
    "\n",
    "log = model.fit(X_train, Y_train, batch_size=batch_size, epochs=nepochs, validation_data=(X_test, Y_test))\n",
    "f = plt.figure(figsize=(12,4))\n",
    "ax1 = f.add_subplot(121)\n",
    "ax2 = f.add_subplot(122)\n",
    "ax1.plot(log.history['loss'], label='Training loss')\n",
    "ax1.plot(log.history['val_loss'], label='Testing loss')\n",
    "ax1.legend()\n",
    "ax1.grid()\n",
    "ax2.plot(log.history['accuracy'], label='Training acc')\n",
    "ax2.plot(log.history['val_accuracy'], label='Testing acc')\n",
    "ax2.legend()\n",
    "ax2.grid()\n",
    "\n",
    "### END YOUR CODE"
   ]
  },
  {
   "cell_type": "markdown",
   "metadata": {},
   "source": [
    "#### Findings\n",
    "\n",
    "By adding more stacks to the network, it looked like its more prone to overfitting. This is why in a further step more regularization should be added to the network to prevent the effect of overfitting.\n"
   ]
  },
  {
   "cell_type": "markdown",
   "metadata": {},
   "source": [
    "### Class Imbalance Handling\n",
    "\n",
    "Choose a method to address the class imbalance seen in the given example.\n",
    "- minority resampling \n",
    "- class weights in the loss\n",
    "\n",
    "Implement it and incorporate it in the training.\n",
    "Evaluate the results and compare it with the results obtained with the unbalanced training.  "
   ]
  },
  {
   "cell_type": "code",
   "execution_count": null,
   "metadata": {},
   "outputs": [],
   "source": [
    "### START YOUR CODE\n",
    "\n",
    "# train...\n",
    "\n",
    "### END YOUR CODE"
   ]
  }
 ],
 "metadata": {
  "kernelspec": {
   "display_name": "Python 3 (ipykernel)",
   "language": "python",
   "name": "python3"
  },
  "language_info": {
   "codemirror_mode": {
    "name": "ipython",
    "version": 3
   },
   "file_extension": ".py",
   "mimetype": "text/x-python",
   "name": "python",
   "nbconvert_exporter": "python",
   "pygments_lexer": "ipython3",
   "version": "3.9.12"
  }
 },
 "nbformat": 4,
 "nbformat_minor": 4
}
