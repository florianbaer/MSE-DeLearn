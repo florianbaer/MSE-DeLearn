{
 "cells": [
  {
   "cell_type": "markdown",
   "id": "84eadf04-bc79-43c6-bc15-f9acbe4e9aa7",
   "metadata": {},
   "source": [
    "# Exercise 2"
   ]
  },
  {
   "cell_type": "code",
   "execution_count": 1,
   "id": "af28144c-ac3a-4df7-a62e-1acf2075704d",
   "metadata": {},
   "outputs": [
    {
     "name": "stderr",
     "output_type": "stream",
     "text": [
      "2022-05-08 17:29:00.505210: W tensorflow/stream_executor/platform/default/dso_loader.cc:64] Could not load dynamic library 'libcudart.so.11.0'; dlerror: libcudart.so.11.0: cannot open shared object file: No such file or directory\n",
      "2022-05-08 17:29:00.505260: I tensorflow/stream_executor/cuda/cudart_stub.cc:29] Ignore above cudart dlerror if you do not have a GPU set up on your machine.\n"
     ]
    }
   ],
   "source": [
    "import numpy as np\n",
    "import tqdm\n",
    "import tensorflow as tf\n",
    "from tensorflow import keras\n",
    "from matplotlib import pyplot as plt"
   ]
  },
  {
   "cell_type": "code",
   "execution_count": 2,
   "id": "affb3786-6d62-4cd9-be5c-ba0c48ab33d8",
   "metadata": {},
   "outputs": [],
   "source": [
    "def read_vocabulary_from_file (filename):\n",
    "    with open(filename , 'r', encoding =\"ISO−8859−1\") as f:\n",
    "        content = f. readlines () # content is a list of lines\n",
    "        content = [x.strip() for x in content] # removing newline chars\n",
    "        content = [x for x in content if x != '' and x[0] != ';' and x[-1] != '+']\n",
    "        return content"
   ]
  },
  {
   "cell_type": "code",
   "execution_count": 3,
   "id": "22724664-3c44-4f3b-a2d9-d2cf80bc54df",
   "metadata": {},
   "outputs": [],
   "source": [
    "positive_words = read_vocabulary_from_file('opinion-lexicon-English/positive-words.txt')\n",
    "negative_words = read_vocabulary_from_file('opinion-lexicon-English/negative-words.txt')"
   ]
  },
  {
   "cell_type": "markdown",
   "id": "37e7f313-a36a-4933-a987-880d6b71bb71",
   "metadata": {},
   "source": [
    "**Compare with given lenght of exercise**"
   ]
  },
  {
   "cell_type": "code",
   "execution_count": 4,
   "id": "2339c110-abe0-49e6-863c-7560d69882c4",
   "metadata": {},
   "outputs": [],
   "source": [
    "assert len(positive_words) == 2005\n",
    "assert len(negative_words) == 4783"
   ]
  },
  {
   "cell_type": "markdown",
   "id": "16222f92-600f-4eb8-9a40-3ced44ef786f",
   "metadata": {},
   "source": [
    "# Load Embeddings"
   ]
  },
  {
   "cell_type": "code",
   "execution_count": 5,
   "id": "d711d5a8-f4ee-4720-bc66-c1995d1a9f95",
   "metadata": {},
   "outputs": [],
   "source": [
    "def load_glove_embeddings (path):\n",
    "    embeddings = {}\n",
    "    with open(path , 'r', encoding ='utf−8') as f:\n",
    "        for line in f:\n",
    "            values = line.strip ().split ()\n",
    "            w = values[0]\n",
    "            vectors = np.asarray(values[1:], dtype='float32')\n",
    "            embeddings [w] = vectors\n",
    "        return embeddings\n",
    "\n",
    "word_dict = load_glove_embeddings('glove.6B.100d.txt')\n",
    "def get_glove_embedding(query):\n",
    "    # off−line dictionary\n",
    "    word = query\n",
    "    if word not in word_dict.keys():\n",
    "        return None\n",
    "    return word_dict[word] # if word is in word_dict\n"
   ]
  },
  {
   "cell_type": "code",
   "execution_count": 120,
   "id": "d5f3587d-b5b0-4ec6-885a-ab946e9ccc08",
   "metadata": {},
   "outputs": [],
   "source": [
    "import requests\n",
    "import json\n",
    "def get_online_embeddings(query):\n",
    "     # online query\n",
    "    response = requests.get(f'https://icoservices.kube.isc.heia-fr.ch/word-embedding/wordvector/word2vec/en/{query}')\n",
    "    vector = response.json()\n",
    "    return vector"
   ]
  },
  {
   "cell_type": "code",
   "execution_count": 121,
   "id": "69387010-cc1f-45bc-8e3f-fc2913164117",
   "metadata": {},
   "outputs": [],
   "source": [
    "def prepare_strings_as_vectors(words, embedding_func = get_glove_embedding):\n",
    "    response = []\n",
    "    for i, word in tqdm.tqdm(enumerate(words)):\n",
    "        \n",
    "        embedding = embedding_func(words[i])\n",
    "        if embedding is not None:\n",
    "            response.append((word,embedding))\n",
    "    return response"
   ]
  },
  {
   "cell_type": "code",
   "execution_count": 122,
   "id": "8139402e-97bd-4238-b253-9d598fafaf6e",
   "metadata": {},
   "outputs": [
    {
     "name": "stderr",
     "output_type": "stream",
     "text": [
      "2005it [00:00, 345646.51it/s]\n",
      "4783it [00:00, 385958.60it/s]\n"
     ]
    }
   ],
   "source": [
    "pos_words_emb = np.array(prepare_strings_as_vectors(positive_words), dtype=object)\n",
    "neg_words_emb = np.array(prepare_strings_as_vectors(negative_words), dtype=object)"
   ]
  },
  {
   "cell_type": "code",
   "execution_count": 123,
   "id": "18101d92-2921-4aab-ae03-bc19abcf053b",
   "metadata": {},
   "outputs": [],
   "source": [
    "def get_response(words, default_response):\n",
    "    return np.full((len(words), 2), default_response)\n",
    "\n",
    "Y_positive = get_response(pos_words_emb, np.array([1,0]))\n",
    "Y_negative = get_response(neg_words_emb, np.array([0,1]))"
   ]
  },
  {
   "cell_type": "code",
   "execution_count": 124,
   "id": "691fc1b7-df96-4c12-86cf-4d33a553b58c",
   "metadata": {},
   "outputs": [],
   "source": [
    "from sklearn.model_selection import train_test_split\n",
    "from sklearn.utils import shuffle\n",
    "X_train_pos_words, X_test_pos_words, y_train_pos, y_test_pos = train_test_split(pos_words_emb, Y_positive, train_size=1500, random_state=42)\n",
    "\n",
    "X_val_pos_words, X_test_pos_words, y_val_pos, y_test_pos = train_test_split(X_test_pos_words, y_test_pos, train_size=0.6, random_state=42)\n",
    "\n",
    "X_train_neg_words, X_test_neg_words, y_train_neg, y_test_neg = train_test_split(neg_words_emb, Y_negative, train_size=1500, random_state=42)\n",
    "\n",
    "X_val_neg_words, X_test_neg_words, y_val_neg, y_test_neg = train_test_split(X_test_neg_words, y_test_neg, train_size=0.6, random_state=42)"
   ]
  },
  {
   "cell_type": "code",
   "execution_count": 125,
   "id": "1fe38328-c566-4915-864a-e5e2c872d5de",
   "metadata": {},
   "outputs": [],
   "source": [
    "X_train = np.concatenate((X_train_pos_words[:, 1], X_train_neg_words[:, 1]))\n",
    "X_val = np.concatenate((X_val_pos_words[:, 1], X_val_neg_words[:, 1]))\n",
    "\n",
    "X_train = np.stack(X_train, axis=0)\n",
    "X_val = np.stack(X_val, axis=0)\n",
    "\n",
    "Y_train = np.concatenate((y_train_pos, y_train_neg))\n",
    "Y_val = np.concatenate((y_val_pos, y_val_neg))\n",
    "\n",
    "X_train, Y_train = shuffle(X_train, Y_train)\n",
    "X_val, Y_val = shuffle(X_val, Y_val)\n",
    "\n"
   ]
  },
  {
   "cell_type": "code",
   "execution_count": 126,
   "id": "7a77b299-1b7c-425e-b4b1-84ce78d02e57",
   "metadata": {},
   "outputs": [
    {
     "name": "stdout",
     "output_type": "stream",
     "text": [
      "(3000, 100)\n",
      "(3000, 2)\n",
      "(1942, 100)\n",
      "(1942, 2)\n"
     ]
    }
   ],
   "source": [
    "print(X_train.shape)\n",
    "print(Y_train.shape)\n",
    "print(X_val.shape)\n",
    "print(Y_val.shape)"
   ]
  },
  {
   "cell_type": "code",
   "execution_count": 127,
   "id": "916a07a0-0199-4a9e-b2b7-1389ffe7b21a",
   "metadata": {},
   "outputs": [
    {
     "name": "stdout",
     "output_type": "stream",
     "text": [
      "Model: \"sequential_17\"\n",
      "_________________________________________________________________\n",
      " Layer (type)                Output Shape              Param #   \n",
      "=================================================================\n",
      " dense_34 (Dense)            (None, 100)               10100     \n",
      "                                                                 \n",
      " dropout_17 (Dropout)        (None, 100)               0         \n",
      "                                                                 \n",
      " dense_35 (Dense)            (None, 2)                 202       \n",
      "                                                                 \n",
      "=================================================================\n",
      "Total params: 10,302\n",
      "Trainable params: 10,302\n",
      "Non-trainable params: 0\n",
      "_________________________________________________________________\n"
     ]
    }
   ],
   "source": [
    "from tensorflow.keras.layers import Dense, Dropout, Activation\n",
    "def get_model():\n",
    "    n_embeddings = X_train.shape[1]\n",
    "    n_hidden = 50\n",
    "    n_categories = 2\n",
    "    model = keras.Sequential()\n",
    "    model.add(Dense(n_embeddings, input_shape=(n_embeddings,), activation='relu'))\n",
    "    model.add(Dropout(rate=0.2))\n",
    "    model.add(Dense(n_categories, activation='softmax'))\n",
    "    opt = keras.optimizers.Adam(learning_rate=0.0002)\n",
    "    model.compile(loss='categorical_crossentropy', optimizer=opt, metrics=['accuracy'])\n",
    "    \n",
    "    return model\n",
    "model = get_model()\n",
    "model.summary()\n"
   ]
  },
  {
   "cell_type": "code",
   "execution_count": 128,
   "id": "0a00baa2-3942-4250-86ed-75864af7bcd6",
   "metadata": {},
   "outputs": [
    {
     "name": "stdout",
     "output_type": "stream",
     "text": [
      "Epoch 1/15\n",
      "94/94 [==============================] - 1s 4ms/step - loss: 0.7342 - accuracy: 0.5263 - val_loss: 0.6112 - val_accuracy: 0.7070\n",
      "Epoch 2/15\n",
      "94/94 [==============================] - 0s 2ms/step - loss: 0.5464 - accuracy: 0.7563 - val_loss: 0.4988 - val_accuracy: 0.8260\n",
      "Epoch 3/15\n",
      "94/94 [==============================] - 0s 2ms/step - loss: 0.4365 - accuracy: 0.8357 - val_loss: 0.3936 - val_accuracy: 0.8733\n",
      "Epoch 4/15\n",
      "94/94 [==============================] - 0s 2ms/step - loss: 0.3724 - accuracy: 0.8563 - val_loss: 0.3313 - val_accuracy: 0.8893\n",
      "Epoch 5/15\n",
      "94/94 [==============================] - 0s 2ms/step - loss: 0.3285 - accuracy: 0.8693 - val_loss: 0.3106 - val_accuracy: 0.8898\n",
      "Epoch 6/15\n",
      "94/94 [==============================] - 0s 2ms/step - loss: 0.3000 - accuracy: 0.8783 - val_loss: 0.2809 - val_accuracy: 0.8975\n",
      "Epoch 7/15\n",
      "94/94 [==============================] - 0s 2ms/step - loss: 0.2866 - accuracy: 0.8783 - val_loss: 0.2677 - val_accuracy: 0.9011\n",
      "Epoch 8/15\n",
      "94/94 [==============================] - 0s 3ms/step - loss: 0.2703 - accuracy: 0.8943 - val_loss: 0.2712 - val_accuracy: 0.8965\n",
      "Epoch 9/15\n",
      "94/94 [==============================] - 0s 2ms/step - loss: 0.2642 - accuracy: 0.8890 - val_loss: 0.2635 - val_accuracy: 0.9001\n",
      "Epoch 10/15\n",
      "94/94 [==============================] - 0s 2ms/step - loss: 0.2558 - accuracy: 0.8957 - val_loss: 0.2639 - val_accuracy: 0.8975\n",
      "Epoch 11/15\n",
      "94/94 [==============================] - 0s 2ms/step - loss: 0.2517 - accuracy: 0.8970 - val_loss: 0.2527 - val_accuracy: 0.9047\n",
      "Epoch 12/15\n",
      "94/94 [==============================] - 0s 2ms/step - loss: 0.2471 - accuracy: 0.8970 - val_loss: 0.2477 - val_accuracy: 0.9042\n",
      "Epoch 13/15\n",
      "94/94 [==============================] - 0s 3ms/step - loss: 0.2410 - accuracy: 0.9020 - val_loss: 0.2543 - val_accuracy: 0.9037\n",
      "Epoch 14/15\n",
      "94/94 [==============================] - 0s 2ms/step - loss: 0.2383 - accuracy: 0.9007 - val_loss: 0.2483 - val_accuracy: 0.9047\n",
      "Epoch 15/15\n",
      "94/94 [==============================] - 0s 2ms/step - loss: 0.2328 - accuracy: 0.9050 - val_loss: 0.2498 - val_accuracy: 0.9032\n"
     ]
    }
   ],
   "source": [
    "log = model.fit(X_train, Y_train, batch_size=32, epochs=15, verbose=True, validation_data=(X_val, Y_val))"
   ]
  },
  {
   "cell_type": "code",
   "execution_count": 129,
   "id": "2c27a314-0bb7-48a3-9316-31ef1ae66b51",
   "metadata": {},
   "outputs": [],
   "source": [
    "# Add plotting function\n",
    "def plot_loss_acc(log):\n",
    "    f = plt.figure(figsize=(12,4))\n",
    "    ax1 = f.add_subplot(121)\n",
    "    ax2 = f.add_subplot(122)\n",
    "    ax1.plot(log.history['loss'], label='Training loss')\n",
    "    ax1.plot(log.history['val_loss'], label='Testing loss')\n",
    "    ax1.legend()\n",
    "    ax1.grid()\n",
    "    ax2.plot(log.history['accuracy'], label='Training acc')\n",
    "    ax2.plot(log.history['val_accuracy'], label='Testing acc')\n",
    "    ax2.legend()\n",
    "    ax2.grid()"
   ]
  },
  {
   "cell_type": "code",
   "execution_count": 130,
   "id": "27f64142-a65a-44fe-9d64-46bd2979cfc5",
   "metadata": {},
   "outputs": [
    {
     "data": {
      "image/png": "[encoded data removed]",
      "text/plain": [
       "<Figure size 864x288 with 2 Axes>"
      ]
     },
     "metadata": {
      "needs_background": "light"
     },
     "output_type": "display_data"
    }
   ],
   "source": [
    "plot_loss_acc(log)"
   ]
  },
  {
   "cell_type": "markdown",
   "id": "712fca94-5723-4e30-97c6-9e44ce74dd56",
   "metadata": {},
   "source": [
    "**Looks like the test accuracy is better than it should be according to the exercise!**"
   ]
  },
  {
   "cell_type": "code",
   "execution_count": 134,
   "id": "2d4c6fe0-4097-45f8-8651-ae9d94d6b0ae",
   "metadata": {},
   "outputs": [
    {
     "name": "stdout",
     "output_type": "stream",
     "text": [
      "**Words on unseen data**\n",
      "most positive words:\n",
      "['versatile' 'courage' 'exciting' 'gracious' 'good' 'vibrant' 'honor'\n",
      " 'equitable' 'efficient' 'wonderful']\n",
      "most negative words:\n",
      "['vomiting' 'harassment' 'foul' 'swollen' 'negligence' 'bullying'\n",
      " 'abusive' 'severe' 'blame' 'bloody']\n"
     ]
    }
   ],
   "source": [
    "X_test = np.concatenate((X_test_pos_words, X_test_neg_words))\n",
    "\n",
    "X_test_emb = np.stack(X_test[:,1], axis=0)\n",
    "Y_test = np.concatenate((y_test_pos, y_test_neg))\n",
    "\n",
    "\n",
    "result = model(X_test_emb)\n",
    "pos = np.argpartition(result[:, 0].numpy(), -10)[-10:]\n",
    "negs = np.argpartition(result[:, 1].numpy(), -10)[-10:]\n",
    "print('**Words on unseen data**')\n",
    "print('most positive words:')\n",
    "print(X_test[pos][:,0])\n",
    "print('most negative words:')\n",
    "print(X_test[negs][:,0])"
   ]
  },
  {
   "cell_type": "code",
   "execution_count": 147,
   "id": "30054b8f-3134-4730-a7a3-d768acd75381",
   "metadata": {},
   "outputs": [
    {
     "name": "stdout",
     "output_type": "stream",
     "text": [
      "uncertein words\n",
      "mesmerizes, suffice, purify, enticed, exalting, pepped, admiringly, soundness, sagely, worthiness, titillate, failed, bewilderingly, impossible, smells, strenuous, debase, caustically, detract, limits, divergent, deplete, slowest, fidget, betray, little-known, desert, craftily, disadvantages, forbidden, fictional, wrest, disconcerted, bland, appall, cons, dinky, hell-bent, unsuccessful, hothouse, faltered, conceit, occluded, break, detriment, inconveniently, squash, randomly, unsettlingly, feebleminded, stiflingly, mediocre, upsets, arduous, intoxicate, peculiarly, ironic, fails, detrimental, woe, chasten, offensively, maladjusted, obstacle, outsider, insouciance, dick, unnaturally, craze, fleed, primitive, precariously, frazzle, passe, imperiously, fatuously, lose, spoils, renunciation, scarce, plebeian, poorly, vain, pinch, uneventful, seriousness, damnably, kook, sap\n"
     ]
    }
   ],
   "source": [
    "print('uncertein words')\n",
    "print(', '.join(X_test[(0.6>result[:, 0]) & (result[:, 0]>0.4)][:,0]))"
   ]
  },
  {
   "cell_type": "code",
   "execution_count": null,
   "id": "f710fce0-6351-4e2d-8fca-63aa85e6b5e7",
   "metadata": {},
   "outputs": [],
   "source": []
  }
 ],
 "metadata": {
  "kernelspec": {
   "display_name": "Python 3 (ipykernel)",
   "language": "python",
   "name": "python3"
  },
  "language_info": {
   "codemirror_mode": {
    "name": "ipython",
    "version": 3
   },
   "file_extension": ".py",
   "mimetype": "text/x-python",
   "name": "python",
   "nbconvert_exporter": "python",
   "pygments_lexer": "ipython3",
   "version": "3.9.7"
  }
 },
 "nbformat": 4,
 "nbformat_minor": 5
}
