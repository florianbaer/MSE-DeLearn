{
 "cells": [
  {
   "cell_type": "markdown",
   "id": "84eadf04-bc79-43c6-bc15-f9acbe4e9aa7",
   "metadata": {},
   "source": [
    "# Exercise 2"
   ]
  },
  {
   "cell_type": "code",
   "execution_count": 1,
   "id": "af28144c-ac3a-4df7-a62e-1acf2075704d",
   "metadata": {},
   "outputs": [
    {
     "name": "stderr",
     "output_type": "stream",
     "text": [
      "2022-05-09 18:40:46.011331: W tensorflow/stream_executor/platform/default/dso_loader.cc:64] Could not load dynamic library 'libcudart.so.11.0'; dlerror: libcudart.so.11.0: cannot open shared object file: No such file or directory\n",
      "2022-05-09 18:40:46.011381: I tensorflow/stream_executor/cuda/cudart_stub.cc:29] Ignore above cudart dlerror if you do not have a GPU set up on your machine.\n"
     ]
    }
   ],
   "source": [
    "import numpy as np\n",
    "import tqdm\n",
    "import tensorflow as tf\n",
    "from tensorflow import keras\n",
    "from matplotlib import pyplot as plt"
   ]
  },
  {
   "cell_type": "code",
   "execution_count": 2,
   "id": "affb3786-6d62-4cd9-be5c-ba0c48ab33d8",
   "metadata": {},
   "outputs": [],
   "source": [
    "def read_vocabulary_from_file (filename):\n",
    "    with open(filename , 'r', encoding =\"ISO−8859−1\") as f:\n",
    "        content = f. readlines () # content is a list of lines\n",
    "        content = [x.strip() for x in content] # removing newline chars\n",
    "        content = [x for x in content if x != '' and x[0] != ';' and x[-1] != '+']\n",
    "        return content"
   ]
  },
  {
   "cell_type": "code",
   "execution_count": 3,
   "id": "22724664-3c44-4f3b-a2d9-d2cf80bc54df",
   "metadata": {},
   "outputs": [],
   "source": [
    "positive_words = read_vocabulary_from_file('Data/positive-words.txt')\n",
    "negative_words = read_vocabulary_from_file('Data/negative-words.txt')"
   ]
  },
  {
   "cell_type": "markdown",
   "id": "37e7f313-a36a-4933-a987-880d6b71bb71",
   "metadata": {},
   "source": [
    "**Compare with given lenght of exercise**"
   ]
  },
  {
   "cell_type": "code",
   "execution_count": 4,
   "id": "2339c110-abe0-49e6-863c-7560d69882c4",
   "metadata": {},
   "outputs": [],
   "source": [
    "assert len(positive_words) == 2005\n",
    "assert len(negative_words) == 4783"
   ]
  },
  {
   "cell_type": "markdown",
   "id": "16222f92-600f-4eb8-9a40-3ced44ef786f",
   "metadata": {},
   "source": [
    "# Load Embeddings"
   ]
  },
  {
   "cell_type": "code",
   "execution_count": 5,
   "id": "d711d5a8-f4ee-4720-bc66-c1995d1a9f95",
   "metadata": {},
   "outputs": [],
   "source": [
    "def load_glove_embeddings (path):\n",
    "    embeddings = {}\n",
    "    with open(path , 'r', encoding ='utf−8') as f:\n",
    "        for line in f:\n",
    "            values = line.strip ().split ()\n",
    "            w = values[0]\n",
    "            vectors = np.asarray(values[1:], dtype='float32')\n",
    "            embeddings [w] = vectors\n",
    "        return embeddings\n",
    "\n",
    "word_dict = load_glove_embeddings('Data/glove.6B.100d.txt')\n",
    "def get_glove_embedding(query):\n",
    "    # off−line dictionary\n",
    "    word = query\n",
    "    if word not in word_dict.keys():\n",
    "        return None\n",
    "    return word_dict[word] # if word is in word_dict\n"
   ]
  },
  {
   "cell_type": "code",
   "execution_count": 6,
   "id": "d5f3587d-b5b0-4ec6-885a-ab946e9ccc08",
   "metadata": {},
   "outputs": [],
   "source": [
    "import requests\n",
    "import json\n",
    "def get_online_embeddings(query):\n",
    "     # online query\n",
    "    response = requests.get(f'https://icoservices.kube.isc.heia-fr.ch/word-embedding/wordvector/word2vec/en/{query}')\n",
    "    vector = response.json()\n",
    "    return vector"
   ]
  },
  {
   "cell_type": "code",
   "execution_count": 7,
   "id": "69387010-cc1f-45bc-8e3f-fc2913164117",
   "metadata": {},
   "outputs": [],
   "source": [
    "def prepare_strings_as_vectors(words, embedding_func = get_glove_embedding):\n",
    "    response = []\n",
    "    for i, word in tqdm.tqdm(enumerate(words)):\n",
    "        \n",
    "        embedding = embedding_func(words[i])\n",
    "        if embedding is not None:\n",
    "            response.append((word,embedding))\n",
    "    return response"
   ]
  },
  {
   "cell_type": "code",
   "execution_count": 8,
   "id": "8139402e-97bd-4238-b253-9d598fafaf6e",
   "metadata": {},
   "outputs": [
    {
     "name": "stderr",
     "output_type": "stream",
     "text": [
      "1500it [00:00, 314337.05it/s]\n",
      "1500it [00:00, 353194.63it/s]\n",
      "505it [00:00, 221769.82it/s]\n",
      "1500it [00:00, 218818.03it/s]\n"
     ]
    }
   ],
   "source": [
    "from sklearn.utils import shuffle\n",
    "pos_word_train = positive_words[:1500]\n",
    "neg_word_train = negative_words[:1500]\n",
    "pos_word_val = positive_words[1500:]\n",
    "neg_word_val = negative_words[1500:]\n",
    "\n",
    "pos_words_emb_train = np.array(prepare_strings_as_vectors(pos_word_train), dtype=object)\n",
    "neg_words_emb_train = np.array(prepare_strings_as_vectors(neg_word_train), dtype=object)\n",
    "\n",
    "pos_words_emb_val = np.array(prepare_strings_as_vectors(pos_word_val), dtype=object)\n",
    "neg_words_emb_val = np.array(prepare_strings_as_vectors(neg_word_train), dtype=object)"
   ]
  },
  {
   "cell_type": "code",
   "execution_count": 14,
   "id": "18101d92-2921-4aab-ae03-bc19abcf053b",
   "metadata": {},
   "outputs": [],
   "source": [
    "def get_response(words, default_response):\n",
    "    return np.full((len(words), 2), default_response)\n",
    "\n",
    "Y_positive_train = get_response(pos_words_emb_train, np.array([1,0]))\n",
    "Y_negative_train = get_response(neg_words_emb_train, np.array([0,1]))\n",
    "Y_positive_val = get_response(pos_words_emb_val, np.array([1,0]))\n",
    "Y_negative_val = get_response(neg_words_emb_val, np.array([0,1]))"
   ]
  },
  {
   "cell_type": "code",
   "execution_count": 18,
   "id": "691fc1b7-df96-4c12-86cf-4d33a553b58c",
   "metadata": {},
   "outputs": [],
   "source": [
    "X_train = np.concatenate((pos_words_emb_train[:, 1], neg_words_emb_train[:, 1]))\n",
    "X_val = np.concatenate((pos_words_emb_val[:, 1], neg_words_emb_val[:, 1]))\n",
    "Y_train = np.concatenate((Y_positive_train, Y_negative_train))\n",
    "Y_val = np.concatenate((Y_positive_val, Y_negative_val))\n",
    "\n",
    "X_train = np.stack(X_train, axis=0)\n",
    "X_val = np.stack(X_val, axis=0)\n",
    "Y_train = np.stack(Y_train, axis=0)\n",
    "Y_val = np.stack(Y_val, axis=0)"
   ]
  },
  {
   "cell_type": "code",
   "execution_count": 19,
   "id": "06f3277f",
   "metadata": {},
   "outputs": [
    {
     "name": "stdout",
     "output_type": "stream",
     "text": [
      "2755\n",
      "1826\n"
     ]
    }
   ],
   "source": [
    "print(len(X_train))\n",
    "print(len(X_val))"
   ]
  },
  {
   "cell_type": "code",
   "execution_count": 20,
   "id": "7a77b299-1b7c-425e-b4b1-84ce78d02e57",
   "metadata": {},
   "outputs": [
    {
     "name": "stdout",
     "output_type": "stream",
     "text": [
      "(2755, 100)\n",
      "(2755, 2)\n",
      "(1826, 100)\n",
      "(1826, 2)\n"
     ]
    }
   ],
   "source": [
    "print(X_train.shape)\n",
    "print(Y_train.shape)\n",
    "print(X_val.shape)\n",
    "print(Y_val.shape)"
   ]
  },
  {
   "cell_type": "code",
   "execution_count": 21,
   "id": "916a07a0-0199-4a9e-b2b7-1389ffe7b21a",
   "metadata": {},
   "outputs": [
    {
     "name": "stdout",
     "output_type": "stream",
     "text": [
      "Model: \"sequential\"\n",
      "_________________________________________________________________\n",
      " Layer (type)                Output Shape              Param #   \n",
      "=================================================================\n",
      " dense (Dense)               (None, 100)               10100     \n",
      "                                                                 \n",
      " dense_1 (Dense)             (None, 2)                 202       \n",
      "                                                                 \n",
      "=================================================================\n",
      "Total params: 10,302\n",
      "Trainable params: 10,302\n",
      "Non-trainable params: 0\n",
      "_________________________________________________________________\n"
     ]
    },
    {
     "name": "stderr",
     "output_type": "stream",
     "text": [
      "2022-05-09 18:43:28.763274: W tensorflow/stream_executor/platform/default/dso_loader.cc:64] Could not load dynamic library 'libcuda.so.1'; dlerror: libcuda.so.1: cannot open shared object file: No such file or directory\n",
      "2022-05-09 18:43:28.763317: W tensorflow/stream_executor/cuda/cuda_driver.cc:269] failed call to cuInit: UNKNOWN ERROR (303)\n",
      "2022-05-09 18:43:28.763338: I tensorflow/stream_executor/cuda/cuda_diagnostics.cc:156] kernel driver does not appear to be running on this host (f05db13702d5): /proc/driver/nvidia/version does not exist\n",
      "2022-05-09 18:43:28.763539: I tensorflow/core/platform/cpu_feature_guard.cc:151] This TensorFlow binary is optimized with oneAPI Deep Neural Network Library (oneDNN) to use the following CPU instructions in performance-critical operations:  AVX2 FMA\n",
      "To enable them in other operations, rebuild TensorFlow with the appropriate compiler flags.\n"
     ]
    }
   ],
   "source": [
    "from tensorflow.keras.layers import Dense, Dropout, Activation\n",
    "def get_model():\n",
    "    n_embeddings = X_train.shape[1]\n",
    "    n_hidden = 50\n",
    "    n_categories = 2\n",
    "    model = keras.Sequential()\n",
    "    model.add(Dense(n_embeddings, input_shape=(n_embeddings,), activation='relu'))\n",
    "    model.add(Dense(n_categories, activation='softmax'))\n",
    "    opt = keras.optimizers.Adam(learning_rate=0.0002)\n",
    "    model.compile(loss='categorical_crossentropy', optimizer=opt, metrics=['accuracy'])\n",
    "    \n",
    "    return model\n",
    "model = get_model()\n",
    "model.summary()\n"
   ]
  },
  {
   "cell_type": "code",
   "execution_count": 22,
   "id": "0a00baa2-3942-4250-86ed-75864af7bcd6",
   "metadata": {},
   "outputs": [
    {
     "name": "stdout",
     "output_type": "stream",
     "text": [
      "Epoch 1/15\n",
      "87/87 [==============================] - 1s 4ms/step - loss: 0.6195 - accuracy: 0.6592 - val_loss: 0.5362 - val_accuracy: 0.7815\n",
      "Epoch 2/15\n",
      "87/87 [==============================] - 0s 2ms/step - loss: 0.4649 - accuracy: 0.8319 - val_loss: 0.4192 - val_accuracy: 0.8697\n",
      "Epoch 3/15\n",
      "87/87 [==============================] - 0s 2ms/step - loss: 0.3742 - accuracy: 0.8748 - val_loss: 0.3440 - val_accuracy: 0.8855\n",
      "Epoch 4/15\n",
      "87/87 [==============================] - 0s 2ms/step - loss: 0.3186 - accuracy: 0.8871 - val_loss: 0.2995 - val_accuracy: 0.8970\n",
      "Epoch 5/15\n",
      "87/87 [==============================] - 0s 2ms/step - loss: 0.2828 - accuracy: 0.8947 - val_loss: 0.2784 - val_accuracy: 0.8998\n",
      "Epoch 6/15\n",
      "87/87 [==============================] - 0s 2ms/step - loss: 0.2596 - accuracy: 0.9020 - val_loss: 0.2615 - val_accuracy: 0.9036\n",
      "Epoch 7/15\n",
      "87/87 [==============================] - 0s 2ms/step - loss: 0.2431 - accuracy: 0.9089 - val_loss: 0.2435 - val_accuracy: 0.9080\n",
      "Epoch 8/15\n",
      "87/87 [==============================] - 0s 2ms/step - loss: 0.2307 - accuracy: 0.9136 - val_loss: 0.2358 - val_accuracy: 0.9074\n",
      "Epoch 9/15\n",
      "87/87 [==============================] - 0s 2ms/step - loss: 0.2214 - accuracy: 0.9176 - val_loss: 0.2248 - val_accuracy: 0.9096\n",
      "Epoch 10/15\n",
      "87/87 [==============================] - 0s 2ms/step - loss: 0.2142 - accuracy: 0.9169 - val_loss: 0.2196 - val_accuracy: 0.9096\n",
      "Epoch 11/15\n",
      "87/87 [==============================] - 0s 2ms/step - loss: 0.2075 - accuracy: 0.9194 - val_loss: 0.2135 - val_accuracy: 0.9118\n",
      "Epoch 12/15\n",
      "87/87 [==============================] - 0s 2ms/step - loss: 0.2018 - accuracy: 0.9227 - val_loss: 0.2138 - val_accuracy: 0.9146\n",
      "Epoch 13/15\n",
      "87/87 [==============================] - 0s 2ms/step - loss: 0.1967 - accuracy: 0.9263 - val_loss: 0.2131 - val_accuracy: 0.9157\n",
      "Epoch 14/15\n",
      "87/87 [==============================] - 0s 2ms/step - loss: 0.1924 - accuracy: 0.9285 - val_loss: 0.2028 - val_accuracy: 0.9151\n",
      "Epoch 15/15\n",
      "87/87 [==============================] - 0s 2ms/step - loss: 0.1885 - accuracy: 0.9292 - val_loss: 0.2021 - val_accuracy: 0.9168\n"
     ]
    }
   ],
   "source": [
    "log = model.fit(X_train, Y_train, batch_size=32, epochs=15, verbose=True, validation_data=(X_val, Y_val))"
   ]
  },
  {
   "cell_type": "code",
   "execution_count": 23,
   "id": "2c27a314-0bb7-48a3-9316-31ef1ae66b51",
   "metadata": {},
   "outputs": [],
   "source": [
    "# Add plotting function\n",
    "def plot_loss_acc(log):\n",
    "    f = plt.figure(figsize=(12,4))\n",
    "    ax1 = f.add_subplot(121)\n",
    "    ax2 = f.add_subplot(122)\n",
    "    ax1.plot(log.history['loss'], label='Training loss')\n",
    "    ax1.plot(log.history['val_loss'], label='Val loss')\n",
    "    ax1.legend()\n",
    "    ax1.grid()\n",
    "    ax2.plot(log.history['accuracy'], label='Training acc')\n",
    "    ax2.plot(log.history['val_accuracy'], label='Val acc')\n",
    "    ax2.legend()\n",
    "    ax2.grid()"
   ]
  },
  {
   "cell_type": "code",
   "execution_count": 24,
   "id": "27f64142-a65a-44fe-9d64-46bd2979cfc5",
   "metadata": {
    "scrolled": true
   },
   "outputs": [
    {
     "data": {
      "image/png": "[encoded data removed]",
      "text/plain": [
       "<Figure size 864x288 with 2 Axes>"
      ]
     },
     "metadata": {
      "needs_background": "light"
     },
     "output_type": "display_data"
    }
   ],
   "source": [
    "plot_loss_acc(log)"
   ]
  },
  {
   "cell_type": "markdown",
   "id": "35a506f7",
   "metadata": {},
   "source": [
    "With all of my experiments, I had "
   ]
  },
  {
   "cell_type": "markdown",
   "id": "712fca94-5723-4e30-97c6-9e44ce74dd56",
   "metadata": {},
   "source": [
    "**Looks like the test accuracy is better than it should be according to the exercise!**"
   ]
  },
  {
   "cell_type": "code",
   "execution_count": null,
   "id": "2d4c6fe0-4097-45f8-8651-ae9d94d6b0ae",
   "metadata": {},
   "outputs": [
    {
     "ename": "NameError",
     "evalue": "name 'X_test_pos_words' is not defined",
     "output_type": "error",
     "traceback": [
      "\u001b[0;31m---------------------------------------------------------------------------\u001b[0m",
      "\u001b[0;31mNameError\u001b[0m                                 Traceback (most recent call last)",
      "Input \u001b[0;32mIn [25]\u001b[0m, in \u001b[0;36m<module>\u001b[0;34m\u001b[0m\n\u001b[0;32m----> 1\u001b[0m X_test \u001b[38;5;241m=\u001b[39m np\u001b[38;5;241m.\u001b[39mconcatenate((\u001b[43mX_test_pos_words\u001b[49m, X_test_neg_words))\n\u001b[1;32m      3\u001b[0m X_test_emb \u001b[38;5;241m=\u001b[39m np\u001b[38;5;241m.\u001b[39mstack(X_test[:,\u001b[38;5;241m1\u001b[39m], axis\u001b[38;5;241m=\u001b[39m\u001b[38;5;241m0\u001b[39m)\n\u001b[1;32m      4\u001b[0m Y_test \u001b[38;5;241m=\u001b[39m np\u001b[38;5;241m.\u001b[39mconcatenate((y_test_pos, y_test_neg))\n",
      "\u001b[0;31mNameError\u001b[0m: name 'X_test_pos_words' is not defined"
     ]
    }
   ],
   "source": [
    "X_test = np.concatenate((X_test_pos_words, X_test_neg_words))\n",
    "\n",
    "X_test_emb = np.stack(X_test[:,1], axis=0)\n",
    "Y_test = np.concatenate((y_test_pos, y_test_neg))\n",
    "\n",
    "\n",
    "result = model(X_test_emb)\n",
    "pos = np.argpartition(result[:, 0].numpy(), -10)[-10:]\n",
    "negs = np.argpartition(result[:, 1].numpy(), -10)[-10:]\n",
    "print('**Words on unseen data**')\n",
    "print('most positive words:')\n",
    "print(X_test[pos][:,0])\n",
    "print('most negative words:')\n",
    "print(X_test[negs][:,0])"
   ]
  },
  {
   "cell_type": "code",
   "execution_count": 26,
   "id": "30054b8f-3134-4730-a7a3-d768acd75381",
   "metadata": {},
   "outputs": [
    {
     "name": "stdout",
     "output_type": "stream",
     "text": [
      "uncertein words\n"
     ]
    },
    {
     "ename": "NameError",
     "evalue": "name 'X_test' is not defined",
     "output_type": "error",
     "traceback": [
      "\u001b[0;31m---------------------------------------------------------------------------\u001b[0m",
      "\u001b[0;31mNameError\u001b[0m                                 Traceback (most recent call last)",
      "Input \u001b[0;32mIn [26]\u001b[0m, in \u001b[0;36m<module>\u001b[0;34m\u001b[0m\n\u001b[1;32m      1\u001b[0m \u001b[38;5;28mprint\u001b[39m(\u001b[38;5;124m'\u001b[39m\u001b[38;5;124muncertein words\u001b[39m\u001b[38;5;124m'\u001b[39m)\n\u001b[0;32m----> 2\u001b[0m \u001b[38;5;28mprint\u001b[39m(\u001b[38;5;124m'\u001b[39m\u001b[38;5;124m, \u001b[39m\u001b[38;5;124m'\u001b[39m\u001b[38;5;241m.\u001b[39mjoin(\u001b[43mX_test\u001b[49m[(\u001b[38;5;241m0.6\u001b[39m\u001b[38;5;241m>\u001b[39mresult[:, \u001b[38;5;241m0\u001b[39m]) \u001b[38;5;241m&\u001b[39m (result[:, \u001b[38;5;241m0\u001b[39m]\u001b[38;5;241m>\u001b[39m\u001b[38;5;241m0.4\u001b[39m)][:,\u001b[38;5;241m0\u001b[39m]))\n",
      "\u001b[0;31mNameError\u001b[0m: name 'X_test' is not defined"
     ]
    }
   ],
   "source": [
    "print('uncertein words')\n",
    "print(', '.join(X_test[(0.6>result[:, 0]) & (result[:, 0]>0.4)][:,0]))"
   ]
  },
  {
   "cell_type": "code",
   "execution_count": null,
   "id": "f710fce0-6351-4e2d-8fca-63aa85e6b5e7",
   "metadata": {},
   "outputs": [],
   "source": []
  },
  {
   "cell_type": "code",
   "execution_count": null,
   "id": "f91cd861",
   "metadata": {},
   "outputs": [],
   "source": [
    "›"
   ]
  }
 ],
 "metadata": {
  "kernelspec": {
   "display_name": "Python 3 (ipykernel)",
   "language": "python",
   "name": "python3"
  },
  "language_info": {
   "codemirror_mode": {
    "name": "ipython",
    "version": 3
   },
   "file_extension": ".py",
   "mimetype": "text/x-python",
   "name": "python",
   "nbconvert_exporter": "python",
   "pygments_lexer": "ipython3",
   "version": "3.9.7"
  }
 },
 "nbformat": 4,
 "nbformat_minor": 5
}
