{
 "cells": [
  {
   "cell_type": "markdown",
   "metadata": {
    "id": "-207wqx7KS4E"
   },
   "source": [
    "# Template for DeepLearning project\n"
   ]
  },
  {
   "cell_type": "markdown",
   "metadata": {
    "id": "Y5N7LBMyKbTy"
   },
   "source": [
    "## 1. Load Dataset\n",
    "First, load your dataset and show a few examples to familiarize with the data.\n",
    "After that, compute a few statisticts, e. g. of the class labels, to check data for imbalance.\n",
    "Finally, split your dataset into training, validatian and test set."
   ]
  },
  {
   "cell_type": "code",
   "execution_count": 1,
   "metadata": {},
   "outputs": [
    {
     "name": "stderr",
     "output_type": "stream",
     "text": [
      "/Users/iabaer/mambaforge/envs/mse/lib/python3.9/site-packages/tqdm/auto.py:22: TqdmWarning: IProgress not found. Please update jupyter and ipywidgets. See https://ipywidgets.readthedocs.io/en/stable/user_install.html\n",
      "  from .autonotebook import tqdm as notebook_tqdm\n"
     ]
    }
   ],
   "source": [
    "# Import libraries\n",
    "import numpy as np\n",
    "import pandas as pd\n",
    "import matplotlib.pyplot as plt\n",
    "import tensorflow as tf\n",
    "from tensorflow import keras\n",
    "from tensorflow.keras.datasets import fashion_mnist\n",
    "from tensorflow.keras.models import Sequential\n",
    "from tensorflow.keras import utils\n",
    "from sklearn.metrics import confusion_matrix\n",
    "import torch\n",
    "\n",
    "%matplotlib inline"
   ]
  },
  {
   "cell_type": "code",
   "execution_count": 2,
   "metadata": {},
   "outputs": [
    {
     "name": "stdout",
     "output_type": "stream",
     "text": [
      "(60000, 28, 28)\n"
     ]
    }
   ],
   "source": [
    "(X_train, y_train), (X_test, y_test) = fashion_mnist.load_data()\n",
    "print(X_train.shape)\n",
    "\n",
    "X_train = X_train.reshape((X_train.shape[0], 28, 28, 1))\n",
    "X_test = X_test.reshape((X_test.shape[0], 28, 28, 1))"
   ]
  },
  {
   "cell_type": "code",
   "execution_count": 3,
   "metadata": {},
   "outputs": [
    {
     "name": "stdout",
     "output_type": "stream",
     "text": [
      "[[0. 0. 0. 0. 0. 0. 0. 0. 0. 1.]\n",
      " [1. 0. 0. 0. 0. 0. 0. 0. 0. 0.]\n",
      " [1. 0. 0. 0. 0. 0. 0. 0. 0. 0.]\n",
      " [0. 0. 0. 1. 0. 0. 0. 0. 0. 0.]\n",
      " [1. 0. 0. 0. 0. 0. 0. 0. 0. 0.]\n",
      " [0. 0. 1. 0. 0. 0. 0. 0. 0. 0.]\n",
      " [0. 0. 0. 0. 0. 0. 0. 1. 0. 0.]\n",
      " [0. 0. 1. 0. 0. 0. 0. 0. 0. 0.]\n",
      " [0. 0. 0. 0. 0. 1. 0. 0. 0. 0.]\n",
      " [0. 0. 0. 0. 0. 1. 0. 0. 0. 0.]]\n"
     ]
    }
   ],
   "source": [
    "n_classes = 10\n",
    "X_train = X_train.astype('float32')\n",
    "X_test = X_test.astype('float32')\n",
    "X_train /= 255.0\n",
    "X_test /= 255.0\n",
    "Y_train = utils.to_categorical(y_train, n_classes)\n",
    "Y_test = utils.to_categorical(y_test, n_classes)\n",
    "print(Y_train[:10])"
   ]
  },
  {
   "cell_type": "markdown",
   "metadata": {},
   "source": [
    "## TensorFlow"
   ]
  },
  {
   "cell_type": "code",
   "execution_count": 4,
   "metadata": {},
   "outputs": [
    {
     "name": "stdout",
     "output_type": "stream",
     "text": [
      "(28, 28, 1)\n",
      "Metal device set to: Apple M1 Pro\n",
      "Model: \"sequential\"\n",
      "_________________________________________________________________\n",
      " Layer (type)                Output Shape              Param #   \n",
      "=================================================================\n",
      " normalization (Normalizatio  (None, 28, 28, 1)        57        \n",
      " n)                                                              \n",
      "                                                                 \n",
      " conv2d (Conv2D)             (None, 28, 28, 32)        320       \n",
      "                                                                 \n",
      " batch_normalization (BatchN  (None, 28, 28, 32)       128       \n",
      " ormalization)                                                   \n",
      "                                                                 \n",
      " activation (Activation)     (None, 28, 28, 32)        0         \n",
      "                                                                 \n",
      " conv2d_1 (Conv2D)           (None, 28, 28, 32)        9248      \n",
      "                                                                 \n",
      " batch_normalization_1 (Batc  (None, 28, 28, 32)       128       \n",
      " hNormalization)                                                 \n",
      "                                                                 \n",
      " activation_1 (Activation)   (None, 28, 28, 32)        0         \n",
      "                                                                 \n",
      " max_pooling2d (MaxPooling2D  (None, 14, 14, 32)       0         \n",
      " )                                                               \n",
      "                                                                 \n",
      " conv2d_2 (Conv2D)           (None, 14, 14, 32)        9248      \n",
      "                                                                 \n",
      " batch_normalization_2 (Batc  (None, 14, 14, 32)       128       \n",
      " hNormalization)                                                 \n",
      "                                                                 \n",
      " activation_2 (Activation)   (None, 14, 14, 32)        0         \n",
      "                                                                 \n",
      " max_pooling2d_1 (MaxPooling  (None, 7, 7, 32)         0         \n",
      " 2D)                                                             \n",
      "                                                                 \n",
      " flatten (Flatten)           (None, 1568)              0         \n",
      "                                                                 \n",
      " dense (Dense)               (None, 100)               156900    \n",
      "                                                                 \n",
      " dense_1 (Dense)             (None, 10)                1010      \n",
      "                                                                 \n",
      "=================================================================\n",
      "Total params: 177,167\n",
      "Trainable params: 176,918\n",
      "Non-trainable params: 249\n",
      "_________________________________________________________________\n"
     ]
    },
    {
     "name": "stderr",
     "output_type": "stream",
     "text": [
      "2022-04-19 16:48:49.400384: I tensorflow/core/common_runtime/pluggable_device/pluggable_device_factory.cc:305] Could not identify NUMA node of platform GPU ID 0, defaulting to 0. Your kernel may not have been built with NUMA support.\n",
      "2022-04-19 16:48:49.400499: I tensorflow/core/common_runtime/pluggable_device/pluggable_device_factory.cc:271] Created TensorFlow device (/job:localhost/replica:0/task:0/device:GPU:0 with 0 MB memory) -> physical PluggableDevice (device: 0, name: METAL, pci bus id: <undefined>)\n"
     ]
    }
   ],
   "source": [
    "D = X_train.shape[1:]\n",
    "print(D)\n",
    "\n",
    "cnn = Sequential()\n",
    "cnn.add(keras.layers.Normalization(axis=1, input_shape=D))\n",
    "cnn.add(keras.layers.Conv2D(32, kernel_size=3, input_shape=D, padding='same', kernel_regularizer=keras.regularizers.L1L2(l1=1e-4, l2=1e-4)))\n",
    "cnn.add(keras.layers.BatchNormalization())\n",
    "cnn.add(keras.layers.Activation('tanh'))\n",
    "cnn.add(keras.layers.Conv2D(32, kernel_size=3, input_shape=D, padding='same', kernel_regularizer=keras.regularizers.L1L2(l1=1e-4, l2=1e-4)))\n",
    "cnn.add(keras.layers.BatchNormalization())\n",
    "cnn.add(keras.layers.Activation('tanh'))\n",
    "cnn.add(keras.layers.MaxPooling2D(2))\n",
    "cnn.add(keras.layers.Conv2D(32, kernel_size=3, input_shape=D, padding='same'))\n",
    "cnn.add(keras.layers.BatchNormalization())\n",
    "cnn.add(keras.layers.Activation('tanh'))\n",
    "cnn.add(keras.layers.MaxPooling2D(2))\n",
    "cnn.add(keras.layers.Flatten())\n",
    "cnn.add(keras.layers.Dense(100, activation='tanh', kernel_regularizer=keras.regularizers.L2(1e-4)))\n",
    "cnn.add(keras.layers.Dense(n_classes, activation='softmax'))\n",
    "\n",
    "cnn.summary()"
   ]
  },
  {
   "cell_type": "code",
   "execution_count": 5,
   "metadata": {
    "id": "Y1yV3BYeQFBy"
   },
   "outputs": [
    {
     "name": "stdout",
     "output_type": "stream",
     "text": [
      "Epoch 1/10\n"
     ]
    },
    {
     "name": "stderr",
     "output_type": "stream",
     "text": [
      "2022-04-19 16:48:49.577511: W tensorflow/core/platform/profile_utils/cpu_utils.cc:128] Failed to get CPU frequency: 0 Hz\n",
      "2022-04-19 16:48:49.927905: I tensorflow/core/grappler/optimizers/custom_graph_optimizer_registry.cc:113] Plugin optimizer for device_type GPU is enabled.\n"
     ]
    },
    {
     "name": "stdout",
     "output_type": "stream",
     "text": [
      "469/469 [==============================] - ETA: 0s - loss: 0.4700 - accuracy: 0.8576"
     ]
    },
    {
     "name": "stderr",
     "output_type": "stream",
     "text": [
      "2022-04-19 16:48:59.188135: I tensorflow/core/grappler/optimizers/custom_graph_optimizer_registry.cc:113] Plugin optimizer for device_type GPU is enabled.\n"
     ]
    },
    {
     "name": "stdout",
     "output_type": "stream",
     "text": [
      "469/469 [==============================] - 10s 21ms/step - loss: 0.4700 - accuracy: 0.8576 - val_loss: 0.4032 - val_accuracy: 0.8821\n",
      "Epoch 2/10\n",
      "469/469 [==============================] - 10s 21ms/step - loss: 0.3309 - accuracy: 0.9075 - val_loss: 0.3697 - val_accuracy: 0.8845\n",
      "Epoch 3/10\n",
      "469/469 [==============================] - 10s 21ms/step - loss: 0.2890 - accuracy: 0.9183 - val_loss: 0.3150 - val_accuracy: 0.9090\n",
      "Epoch 4/10\n",
      "469/469 [==============================] - 10s 21ms/step - loss: 0.2581 - accuracy: 0.9291 - val_loss: 0.3167 - val_accuracy: 0.9056\n",
      "Epoch 5/10\n",
      "469/469 [==============================] - 10s 21ms/step - loss: 0.2338 - accuracy: 0.9366 - val_loss: 0.2938 - val_accuracy: 0.9135\n",
      "Epoch 6/10\n",
      "469/469 [==============================] - 10s 20ms/step - loss: 0.2164 - accuracy: 0.9424 - val_loss: 0.3096 - val_accuracy: 0.9062\n",
      "Epoch 7/10\n",
      "469/469 [==============================] - 10s 20ms/step - loss: 0.1991 - accuracy: 0.9492 - val_loss: 0.2716 - val_accuracy: 0.9219\n",
      "Epoch 8/10\n",
      "469/469 [==============================] - 10s 21ms/step - loss: 0.1841 - accuracy: 0.9545 - val_loss: 0.2795 - val_accuracy: 0.9180\n",
      "Epoch 9/10\n",
      "469/469 [==============================] - 10s 20ms/step - loss: 0.1715 - accuracy: 0.9595 - val_loss: 0.3042 - val_accuracy: 0.9137\n",
      "Epoch 10/10\n",
      "469/469 [==============================] - 10s 21ms/step - loss: 0.1645 - accuracy: 0.9616 - val_loss: 0.3039 - val_accuracy: 0.9154\n"
     ]
    }
   ],
   "source": [
    "cnn.compile(loss='categorical_crossentropy', optimizer='adam', metrics=['accuracy'])\n",
    "log = cnn.fit(X_train, Y_train, batch_size=128, epochs=10, verbose=1, validation_data=(X_test, Y_test))"
   ]
  },
  {
   "cell_type": "code",
   "execution_count": 6,
   "metadata": {
    "scrolled": true
   },
   "outputs": [
    {
     "data": {
      "image/png": "[encoded data removed]",
      "text/plain": [
       "<Figure size 864x288 with 2 Axes>"
      ]
     },
     "metadata": {
      "needs_background": "light"
     },
     "output_type": "display_data"
    }
   ],
   "source": [
    "f = plt.figure(figsize=(12,4))\n",
    "f.title='Default Parameter initialization'\n",
    "ax1 = f.add_subplot(121)\n",
    "ax2 = f.add_subplot(122)\n",
    "ax1.plot(log.history['loss'], label='Training loss')\n",
    "ax1.plot(log.history['val_loss'], label='Testing loss')\n",
    "ax1.legend()\n",
    "ax1.grid()\n",
    "ax2.plot(log.history['accuracy'], label='Training acc')\n",
    "ax2.plot(log.history['val_accuracy'], label='Testing acc')\n",
    "ax2.legend()\n",
    "ax2.grid()"
   ]
  },
  {
   "cell_type": "code",
   "execution_count": 12,
   "metadata": {},
   "outputs": [
    {
     "name": "stdout",
     "output_type": "stream",
     "text": [
      "(28, 28, 1)\n",
      "Model: \"sequential_3\"\n",
      "_________________________________________________________________\n",
      " Layer (type)                Output Shape              Param #   \n",
      "=================================================================\n",
      " normalization_3 (Normalizat  (None, 28, 28, 1)        57        \n",
      " ion)                                                            \n",
      "                                                                 \n",
      " conv2d_9 (Conv2D)           (None, 28, 28, 32)        320       \n",
      "                                                                 \n",
      " batch_normalization_9 (Batc  (None, 28, 28, 32)       128       \n",
      " hNormalization)                                                 \n",
      "                                                                 \n",
      " activation_9 (Activation)   (None, 28, 28, 32)        0         \n",
      "                                                                 \n",
      " conv2d_10 (Conv2D)          (None, 28, 28, 32)        9248      \n",
      "                                                                 \n",
      " batch_normalization_10 (Bat  (None, 28, 28, 32)       128       \n",
      " chNormalization)                                                \n",
      "                                                                 \n",
      " activation_10 (Activation)  (None, 28, 28, 32)        0         \n",
      "                                                                 \n",
      " max_pooling2d_6 (MaxPooling  (None, 14, 14, 32)       0         \n",
      " 2D)                                                             \n",
      "                                                                 \n",
      " conv2d_11 (Conv2D)          (None, 14, 14, 32)        9248      \n",
      "                                                                 \n",
      " batch_normalization_11 (Bat  (None, 14, 14, 32)       128       \n",
      " chNormalization)                                                \n",
      "                                                                 \n",
      " activation_11 (Activation)  (None, 14, 14, 32)        0         \n",
      "                                                                 \n",
      " max_pooling2d_7 (MaxPooling  (None, 7, 7, 32)         0         \n",
      " 2D)                                                             \n",
      "                                                                 \n",
      " flatten_3 (Flatten)         (None, 1568)              0         \n",
      "                                                                 \n",
      " dense_6 (Dense)             (None, 100)               156900    \n",
      "                                                                 \n",
      " dense_7 (Dense)             (None, 10)                1010      \n",
      "                                                                 \n",
      "=================================================================\n",
      "Total params: 177,167\n",
      "Trainable params: 176,918\n",
      "Non-trainable params: 249\n",
      "_________________________________________________________________\n",
      "Epoch 1/10\n",
      "  1/469 [..............................] - ETA: 3:22 - loss: 2.3026 - accuracy: 0.1172"
     ]
    },
    {
     "name": "stderr",
     "output_type": "stream",
     "text": [
      "2022-04-19 16:52:31.298445: I tensorflow/core/grappler/optimizers/custom_graph_optimizer_registry.cc:113] Plugin optimizer for device_type GPU is enabled.\n"
     ]
    },
    {
     "name": "stdout",
     "output_type": "stream",
     "text": [
      "469/469 [==============================] - ETA: 0s - loss: 2.3027 - accuracy: 0.0980"
     ]
    },
    {
     "name": "stderr",
     "output_type": "stream",
     "text": [
      "2022-04-19 16:52:41.225138: I tensorflow/core/grappler/optimizers/custom_graph_optimizer_registry.cc:113] Plugin optimizer for device_type GPU is enabled.\n"
     ]
    },
    {
     "name": "stdout",
     "output_type": "stream",
     "text": [
      "469/469 [==============================] - 11s 23ms/step - loss: 2.3027 - accuracy: 0.0980 - val_loss: 2.3026 - val_accuracy: 0.1000\n",
      "Epoch 2/10\n",
      "469/469 [==============================] - 10s 21ms/step - loss: 2.3027 - accuracy: 0.0976 - val_loss: 2.3026 - val_accuracy: 0.1000\n",
      "Epoch 3/10\n",
      "469/469 [==============================] - 10s 21ms/step - loss: 2.3027 - accuracy: 0.0986 - val_loss: 2.3026 - val_accuracy: 0.1000\n",
      "Epoch 4/10\n",
      "469/469 [==============================] - 10s 21ms/step - loss: 2.3027 - accuracy: 0.0975 - val_loss: 2.3026 - val_accuracy: 0.1000\n",
      "Epoch 5/10\n",
      "469/469 [==============================] - 10s 21ms/step - loss: 2.3027 - accuracy: 0.0971 - val_loss: 2.3026 - val_accuracy: 0.1000\n",
      "Epoch 6/10\n",
      "469/469 [==============================] - 10s 21ms/step - loss: 2.3027 - accuracy: 0.0971 - val_loss: 2.3026 - val_accuracy: 0.1000\n",
      "Epoch 7/10\n",
      "469/469 [==============================] - 10s 21ms/step - loss: 2.3027 - accuracy: 0.0992 - val_loss: 2.3026 - val_accuracy: 0.1000\n",
      "Epoch 8/10\n",
      "469/469 [==============================] - 10s 21ms/step - loss: 2.3027 - accuracy: 0.0988 - val_loss: 2.3026 - val_accuracy: 0.1000\n",
      "Epoch 9/10\n",
      "469/469 [==============================] - 10s 21ms/step - loss: 2.3027 - accuracy: 0.0978 - val_loss: 2.3026 - val_accuracy: 0.1000\n",
      "Epoch 10/10\n",
      "469/469 [==============================] - 10s 21ms/step - loss: 2.3027 - accuracy: 0.0958 - val_loss: 2.3026 - val_accuracy: 0.1000\n",
      "(28, 28, 1)\n",
      "Model: \"sequential_4\"\n",
      "_________________________________________________________________\n",
      " Layer (type)                Output Shape              Param #   \n",
      "=================================================================\n",
      " normalization_4 (Normalizat  (None, 28, 28, 1)        57        \n",
      " ion)                                                            \n",
      "                                                                 \n",
      " conv2d_12 (Conv2D)          (None, 28, 28, 32)        320       \n",
      "                                                                 \n",
      " batch_normalization_12 (Bat  (None, 28, 28, 32)       128       \n",
      " chNormalization)                                                \n",
      "                                                                 \n",
      " activation_12 (Activation)  (None, 28, 28, 32)        0         \n",
      "                                                                 \n",
      " conv2d_13 (Conv2D)          (None, 28, 28, 32)        9248      \n",
      "                                                                 \n",
      " batch_normalization_13 (Bat  (None, 28, 28, 32)       128       \n",
      " chNormalization)                                                \n",
      "                                                                 \n",
      " activation_13 (Activation)  (None, 28, 28, 32)        0         \n",
      "                                                                 \n",
      " max_pooling2d_8 (MaxPooling  (None, 14, 14, 32)       0         \n",
      " 2D)                                                             \n",
      "                                                                 \n",
      " conv2d_14 (Conv2D)          (None, 14, 14, 32)        9248      \n",
      "                                                                 \n",
      " batch_normalization_14 (Bat  (None, 14, 14, 32)       128       \n",
      " chNormalization)                                                \n",
      "                                                                 \n",
      " activation_14 (Activation)  (None, 14, 14, 32)        0         \n",
      "                                                                 \n",
      " max_pooling2d_9 (MaxPooling  (None, 7, 7, 32)         0         \n",
      " 2D)                                                             \n",
      "                                                                 \n",
      " flatten_4 (Flatten)         (None, 1568)              0         \n",
      "                                                                 \n",
      " dense_8 (Dense)             (None, 100)               156900    \n",
      "                                                                 \n",
      " dense_9 (Dense)             (None, 10)                1010      \n",
      "                                                                 \n",
      "=================================================================\n",
      "Total params: 177,167\n",
      "Trainable params: 176,918\n",
      "Non-trainable params: 249\n",
      "_________________________________________________________________\n",
      "Epoch 1/10\n",
      "  1/469 [..............................] - ETA: 3:05 - loss: 2.3435 - accuracy: 0.0547"
     ]
    },
    {
     "name": "stderr",
     "output_type": "stream",
     "text": [
      "2022-04-19 16:54:11.474442: I tensorflow/core/grappler/optimizers/custom_graph_optimizer_registry.cc:113] Plugin optimizer for device_type GPU is enabled.\n"
     ]
    },
    {
     "name": "stdout",
     "output_type": "stream",
     "text": [
      "469/469 [==============================] - ETA: 0s - loss: 0.4447 - accuracy: 0.8514"
     ]
    },
    {
     "name": "stderr",
     "output_type": "stream",
     "text": [
      "2022-04-19 16:54:20.748737: I tensorflow/core/grappler/optimizers/custom_graph_optimizer_registry.cc:113] Plugin optimizer for device_type GPU is enabled.\n"
     ]
    },
    {
     "name": "stdout",
     "output_type": "stream",
     "text": [
      "469/469 [==============================] - 10s 21ms/step - loss: 0.4447 - accuracy: 0.8514 - val_loss: 0.4213 - val_accuracy: 0.8523\n",
      "Epoch 2/10\n",
      "469/469 [==============================] - 10s 21ms/step - loss: 0.2779 - accuracy: 0.9042 - val_loss: 0.2791 - val_accuracy: 0.9040\n",
      "Epoch 3/10\n",
      "469/469 [==============================] - 10s 21ms/step - loss: 0.2379 - accuracy: 0.9197 - val_loss: 0.2744 - val_accuracy: 0.9049\n",
      "Epoch 4/10\n",
      "469/469 [==============================] - 10s 21ms/step - loss: 0.2140 - accuracy: 0.9277 - val_loss: 0.2688 - val_accuracy: 0.9096\n",
      "Epoch 5/10\n",
      "469/469 [==============================] - 10s 22ms/step - loss: 0.1913 - accuracy: 0.9357 - val_loss: 0.2602 - val_accuracy: 0.9106\n",
      "Epoch 6/10\n",
      "469/469 [==============================] - 10s 21ms/step - loss: 0.1743 - accuracy: 0.9424 - val_loss: 0.2393 - val_accuracy: 0.9205\n",
      "Epoch 7/10\n",
      "469/469 [==============================] - 10s 21ms/step - loss: 0.1548 - accuracy: 0.9508 - val_loss: 0.2447 - val_accuracy: 0.9182\n",
      "Epoch 8/10\n",
      "469/469 [==============================] - 10s 21ms/step - loss: 0.1437 - accuracy: 0.9541 - val_loss: 0.2473 - val_accuracy: 0.9190\n",
      "Epoch 9/10\n",
      "469/469 [==============================] - 10s 21ms/step - loss: 0.1291 - accuracy: 0.9596 - val_loss: 0.2428 - val_accuracy: 0.9228\n",
      "Epoch 10/10\n",
      "469/469 [==============================] - 10s 21ms/step - loss: 0.1150 - accuracy: 0.9651 - val_loss: 0.2527 - val_accuracy: 0.9203\n",
      "(28, 28, 1)\n",
      "Model: \"sequential_5\"\n",
      "_________________________________________________________________\n",
      " Layer (type)                Output Shape              Param #   \n",
      "=================================================================\n",
      " normalization_5 (Normalizat  (None, 28, 28, 1)        57        \n",
      " ion)                                                            \n",
      "                                                                 \n",
      " conv2d_15 (Conv2D)          (None, 28, 28, 32)        320       \n",
      "                                                                 \n",
      " batch_normalization_15 (Bat  (None, 28, 28, 32)       128       \n",
      " chNormalization)                                                \n",
      "                                                                 \n",
      " activation_15 (Activation)  (None, 28, 28, 32)        0         \n",
      "                                                                 \n",
      " conv2d_16 (Conv2D)          (None, 28, 28, 32)        9248      \n",
      "                                                                 \n",
      " batch_normalization_16 (Bat  (None, 28, 28, 32)       128       \n",
      " chNormalization)                                                \n",
      "                                                                 \n",
      " activation_16 (Activation)  (None, 28, 28, 32)        0         \n",
      "                                                                 \n",
      " max_pooling2d_10 (MaxPoolin  (None, 14, 14, 32)       0         \n",
      " g2D)                                                            \n",
      "                                                                 \n",
      " conv2d_17 (Conv2D)          (None, 14, 14, 32)        9248      \n",
      "                                                                 \n",
      " batch_normalization_17 (Bat  (None, 14, 14, 32)       128       \n",
      " chNormalization)                                                \n",
      "                                                                 \n",
      " activation_17 (Activation)  (None, 14, 14, 32)        0         \n",
      "                                                                 \n",
      " max_pooling2d_11 (MaxPoolin  (None, 7, 7, 32)         0         \n",
      " g2D)                                                            \n",
      "                                                                 \n",
      " flatten_5 (Flatten)         (None, 1568)              0         \n",
      "                                                                 \n",
      " dense_10 (Dense)            (None, 100)               156900    \n",
      "                                                                 \n",
      " dense_11 (Dense)            (None, 10)                1010      \n",
      "                                                                 \n",
      "=================================================================\n",
      "Total params: 177,167\n",
      "Trainable params: 176,918\n",
      "Non-trainable params: 249\n",
      "_________________________________________________________________\n",
      "Epoch 1/10\n",
      "  1/469 [..............................] - ETA: 3:19 - loss: 4.6327 - accuracy: 0.0547"
     ]
    },
    {
     "name": "stderr",
     "output_type": "stream",
     "text": [
      "2022-04-19 16:55:50.954450: I tensorflow/core/grappler/optimizers/custom_graph_optimizer_registry.cc:113] Plugin optimizer for device_type GPU is enabled.\n"
     ]
    },
    {
     "name": "stdout",
     "output_type": "stream",
     "text": [
      "469/469 [==============================] - ETA: 0s - loss: 0.8640 - accuracy: 0.7793"
     ]
    },
    {
     "name": "stderr",
     "output_type": "stream",
     "text": [
      "2022-04-19 16:56:00.295690: I tensorflow/core/grappler/optimizers/custom_graph_optimizer_registry.cc:113] Plugin optimizer for device_type GPU is enabled.\n"
     ]
    },
    {
     "name": "stdout",
     "output_type": "stream",
     "text": [
      "469/469 [==============================] - 10s 21ms/step - loss: 0.8640 - accuracy: 0.7793 - val_loss: 0.7183 - val_accuracy: 0.8221\n",
      "Epoch 2/10\n",
      "469/469 [==============================] - 10s 21ms/step - loss: 0.6429 - accuracy: 0.8530 - val_loss: 0.6380 - val_accuracy: 0.8518\n",
      "Epoch 3/10\n",
      "469/469 [==============================] - 10s 21ms/step - loss: 0.5799 - accuracy: 0.8734 - val_loss: 0.5935 - val_accuracy: 0.8659\n",
      "Epoch 4/10\n",
      "469/469 [==============================] - 10s 21ms/step - loss: 0.5403 - accuracy: 0.8842 - val_loss: 0.5608 - val_accuracy: 0.8767\n",
      "Epoch 5/10\n",
      "469/469 [==============================] - 10s 21ms/step - loss: 0.5088 - accuracy: 0.8929 - val_loss: 0.5469 - val_accuracy: 0.8814\n",
      "Epoch 6/10\n",
      "469/469 [==============================] - 10s 22ms/step - loss: 0.4827 - accuracy: 0.8995 - val_loss: 0.5103 - val_accuracy: 0.8888\n",
      "Epoch 7/10\n",
      "469/469 [==============================] - 10s 21ms/step - loss: 0.4631 - accuracy: 0.9047 - val_loss: 0.4941 - val_accuracy: 0.8954\n",
      "Epoch 8/10\n",
      "469/469 [==============================] - 10s 21ms/step - loss: 0.4400 - accuracy: 0.9106 - val_loss: 0.4860 - val_accuracy: 0.8983\n",
      "Epoch 9/10\n",
      "469/469 [==============================] - 10s 21ms/step - loss: 0.4211 - accuracy: 0.9148 - val_loss: 0.4753 - val_accuracy: 0.8978\n",
      "Epoch 10/10\n",
      "469/469 [==============================] - 10s 21ms/step - loss: 0.4049 - accuracy: 0.9189 - val_loss: 0.4632 - val_accuracy: 0.8991\n",
      "(28, 28, 1)\n",
      "Model: \"sequential_6\"\n",
      "_________________________________________________________________\n",
      " Layer (type)                Output Shape              Param #   \n",
      "=================================================================\n",
      " normalization_6 (Normalizat  (None, 28, 28, 1)        57        \n",
      " ion)                                                            \n",
      "                                                                 \n",
      " conv2d_18 (Conv2D)          (None, 28, 28, 32)        320       \n",
      "                                                                 \n",
      " batch_normalization_18 (Bat  (None, 28, 28, 32)       128       \n",
      " chNormalization)                                                \n",
      "                                                                 \n",
      " activation_18 (Activation)  (None, 28, 28, 32)        0         \n",
      "                                                                 \n",
      " conv2d_19 (Conv2D)          (None, 28, 28, 32)        9248      \n",
      "                                                                 \n",
      " batch_normalization_19 (Bat  (None, 28, 28, 32)       128       \n",
      " chNormalization)                                                \n",
      "                                                                 \n",
      " activation_19 (Activation)  (None, 28, 28, 32)        0         \n",
      "                                                                 \n",
      " max_pooling2d_12 (MaxPoolin  (None, 14, 14, 32)       0         \n",
      " g2D)                                                            \n",
      "                                                                 \n",
      " conv2d_20 (Conv2D)          (None, 14, 14, 32)        9248      \n",
      "                                                                 \n",
      " batch_normalization_20 (Bat  (None, 14, 14, 32)       128       \n",
      " chNormalization)                                                \n",
      "                                                                 \n",
      " activation_20 (Activation)  (None, 14, 14, 32)        0         \n",
      "                                                                 \n",
      " max_pooling2d_13 (MaxPoolin  (None, 7, 7, 32)         0         \n",
      " g2D)                                                            \n",
      "                                                                 \n",
      " flatten_6 (Flatten)         (None, 1568)              0         \n",
      "                                                                 \n",
      " dense_12 (Dense)            (None, 100)               156900    \n",
      "                                                                 \n",
      " dense_13 (Dense)            (None, 10)                1010      \n",
      "                                                                 \n",
      "=================================================================\n",
      "Total params: 177,167\n",
      "Trainable params: 176,918\n",
      "Non-trainable params: 249\n",
      "_________________________________________________________________\n",
      "Epoch 1/10\n"
     ]
    },
    {
     "name": "stderr",
     "output_type": "stream",
     "text": [
      "2022-04-19 16:57:30.843521: I tensorflow/core/grappler/optimizers/custom_graph_optimizer_registry.cc:113] Plugin optimizer for device_type GPU is enabled.\n"
     ]
    },
    {
     "name": "stdout",
     "output_type": "stream",
     "text": [
      "469/469 [==============================] - ETA: 0s - loss: 0.4034 - accuracy: 0.8592"
     ]
    },
    {
     "name": "stderr",
     "output_type": "stream",
     "text": [
      "2022-04-19 16:57:40.462045: I tensorflow/core/grappler/optimizers/custom_graph_optimizer_registry.cc:113] Plugin optimizer for device_type GPU is enabled.\n"
     ]
    },
    {
     "name": "stdout",
     "output_type": "stream",
     "text": [
      "469/469 [==============================] - 11s 22ms/step - loss: 0.4034 - accuracy: 0.8592 - val_loss: 0.4613 - val_accuracy: 0.8422\n",
      "Epoch 2/10\n",
      "469/469 [==============================] - 10s 21ms/step - loss: 0.2728 - accuracy: 0.9054 - val_loss: 0.2767 - val_accuracy: 0.9060\n",
      "Epoch 3/10\n",
      "469/469 [==============================] - 10s 21ms/step - loss: 0.2289 - accuracy: 0.9217 - val_loss: 0.2831 - val_accuracy: 0.9029\n",
      "Epoch 4/10\n",
      "469/469 [==============================] - 10s 21ms/step - loss: 0.2042 - accuracy: 0.9299 - val_loss: 0.2388 - val_accuracy: 0.9168\n",
      "Epoch 5/10\n",
      "469/469 [==============================] - 10s 21ms/step - loss: 0.1800 - accuracy: 0.9399 - val_loss: 0.2431 - val_accuracy: 0.9172\n",
      "Epoch 6/10\n",
      "469/469 [==============================] - 10s 21ms/step - loss: 0.1610 - accuracy: 0.9469 - val_loss: 0.2366 - val_accuracy: 0.9216\n",
      "Epoch 7/10\n",
      "469/469 [==============================] - 10s 21ms/step - loss: 0.1491 - accuracy: 0.9507 - val_loss: 0.2325 - val_accuracy: 0.9228\n",
      "Epoch 8/10\n",
      "469/469 [==============================] - 10s 22ms/step - loss: 0.1322 - accuracy: 0.9583 - val_loss: 0.2377 - val_accuracy: 0.9230\n",
      "Epoch 9/10\n",
      "469/469 [==============================] - 10s 21ms/step - loss: 0.1200 - accuracy: 0.9626 - val_loss: 0.2395 - val_accuracy: 0.9239\n",
      "Epoch 10/10\n",
      "469/469 [==============================] - 10s 21ms/step - loss: 0.1077 - accuracy: 0.9674 - val_loss: 0.2614 - val_accuracy: 0.9193\n",
      "(28, 28, 1)\n",
      "Model: \"sequential_7\"\n",
      "_________________________________________________________________\n",
      " Layer (type)                Output Shape              Param #   \n",
      "=================================================================\n",
      " normalization_7 (Normalizat  (None, 28, 28, 1)        57        \n",
      " ion)                                                            \n",
      "                                                                 \n",
      " conv2d_21 (Conv2D)          (None, 28, 28, 32)        320       \n",
      "                                                                 \n",
      " batch_normalization_21 (Bat  (None, 28, 28, 32)       128       \n",
      " chNormalization)                                                \n",
      "                                                                 \n",
      " activation_21 (Activation)  (None, 28, 28, 32)        0         \n",
      "                                                                 \n",
      " conv2d_22 (Conv2D)          (None, 28, 28, 32)        9248      \n",
      "                                                                 \n",
      " batch_normalization_22 (Bat  (None, 28, 28, 32)       128       \n",
      " chNormalization)                                                \n",
      "                                                                 \n",
      " activation_22 (Activation)  (None, 28, 28, 32)        0         \n",
      "                                                                 \n",
      " max_pooling2d_14 (MaxPoolin  (None, 14, 14, 32)       0         \n",
      " g2D)                                                            \n",
      "                                                                 \n",
      " conv2d_23 (Conv2D)          (None, 14, 14, 32)        9248      \n",
      "                                                                 \n",
      " batch_normalization_23 (Bat  (None, 14, 14, 32)       128       \n",
      " chNormalization)                                                \n",
      "                                                                 \n",
      " activation_23 (Activation)  (None, 14, 14, 32)        0         \n",
      "                                                                 \n",
      " max_pooling2d_15 (MaxPoolin  (None, 7, 7, 32)         0         \n",
      " g2D)                                                            \n",
      "                                                                 \n",
      " flatten_7 (Flatten)         (None, 1568)              0         \n",
      "                                                                 \n",
      " dense_14 (Dense)            (None, 100)               156900    \n",
      "                                                                 \n",
      " dense_15 (Dense)            (None, 10)                1010      \n",
      "                                                                 \n",
      "=================================================================\n",
      "Total params: 177,167\n",
      "Trainable params: 176,918\n",
      "Non-trainable params: 249\n",
      "_________________________________________________________________\n",
      "Epoch 1/10\n"
     ]
    },
    {
     "name": "stderr",
     "output_type": "stream",
     "text": [
      "2022-04-19 16:59:11.286762: I tensorflow/core/grappler/optimizers/custom_graph_optimizer_registry.cc:113] Plugin optimizer for device_type GPU is enabled.\n"
     ]
    },
    {
     "name": "stdout",
     "output_type": "stream",
     "text": [
      "469/469 [==============================] - ETA: 0s - loss: 0.4278 - accuracy: 0.8538"
     ]
    },
    {
     "name": "stderr",
     "output_type": "stream",
     "text": [
      "2022-04-19 16:59:20.802121: I tensorflow/core/grappler/optimizers/custom_graph_optimizer_registry.cc:113] Plugin optimizer for device_type GPU is enabled.\n"
     ]
    },
    {
     "name": "stdout",
     "output_type": "stream",
     "text": [
      "469/469 [==============================] - 11s 21ms/step - loss: 0.4278 - accuracy: 0.8538 - val_loss: 0.3413 - val_accuracy: 0.8884\n",
      "Epoch 2/10\n",
      "469/469 [==============================] - 10s 21ms/step - loss: 0.2871 - accuracy: 0.9027 - val_loss: 0.3068 - val_accuracy: 0.8973\n",
      "Epoch 3/10\n",
      "469/469 [==============================] - 10s 21ms/step - loss: 0.2480 - accuracy: 0.9161 - val_loss: 0.3006 - val_accuracy: 0.9001\n",
      "Epoch 4/10\n",
      "469/469 [==============================] - 10s 21ms/step - loss: 0.2217 - accuracy: 0.9273 - val_loss: 0.2698 - val_accuracy: 0.9135\n",
      "Epoch 5/10\n",
      "469/469 [==============================] - 10s 21ms/step - loss: 0.1987 - accuracy: 0.9355 - val_loss: 0.2781 - val_accuracy: 0.9121\n",
      "Epoch 6/10\n",
      "469/469 [==============================] - 10s 21ms/step - loss: 0.1833 - accuracy: 0.9404 - val_loss: 0.2556 - val_accuracy: 0.9196\n",
      "Epoch 7/10\n",
      "469/469 [==============================] - 10s 21ms/step - loss: 0.1679 - accuracy: 0.9454 - val_loss: 0.2530 - val_accuracy: 0.9187\n",
      "Epoch 8/10\n",
      "469/469 [==============================] - 10s 21ms/step - loss: 0.1523 - accuracy: 0.9518 - val_loss: 0.2642 - val_accuracy: 0.9174\n",
      "Epoch 9/10\n",
      "469/469 [==============================] - 10s 21ms/step - loss: 0.1426 - accuracy: 0.9557 - val_loss: 0.2684 - val_accuracy: 0.9170\n",
      "Epoch 10/10\n",
      "469/469 [==============================] - 10s 21ms/step - loss: 0.1312 - accuracy: 0.9597 - val_loss: 0.2709 - val_accuracy: 0.9208\n"
     ]
    }
   ],
   "source": [
    "from keras import initializers\n",
    "initializers = [\n",
    "    (\"(Zero/Zero)\", initializers.Zeros(), initializers.Zeros(), 'tanh'),\n",
    "    (\"(RandomNormal/Zero)\", initializers.RandomNormal(), initializers.Zeros(), 'tanh'),\n",
    "    (\"(Uniform/Zero)\", initializers.RandomUniform(-0.5, 0.5), initializers.Zeros(), 'tanh'),\n",
    "    (\"(XavierGlorot/Zero)\", initializers.GlorotNormal(seed=42), initializers.Zeros(), 'tanh'),\n",
    "    (\"(KaimingHe/Zero)\", initializers.HeNormal(seed=42), initializers.Zeros(), 'relu'),\n",
    "]\n",
    "\n",
    "results = {}\n",
    "\n",
    "for name, kernel_initializer, bias_initializer, activation in initializers:\n",
    "    D = X_train.shape[1:]\n",
    "    print(D)\n",
    "\n",
    "    cnn = Sequential()\n",
    "    cnn.add(keras.layers.Normalization(axis=1, input_shape=D))\n",
    "    cnn.add(keras.layers.Conv2D(32, kernel_size=3, input_shape=D, padding='same', kernel_initializer=kernel_initializer, bias_initializer=bias_initializer, kernel_regularizer=keras.regularizers.L1L2(l1=1e-5, l2=1e-4)))\n",
    "    cnn.add(keras.layers.BatchNormalization())\n",
    "    cnn.add(keras.layers.Activation(activation))\n",
    "    cnn.add(keras.layers.Conv2D(32, kernel_size=3, input_shape=D, padding='same', kernel_initializer=kernel_initializer, bias_initializer=bias_initializer, kernel_regularizer=keras.regularizers.L1L2(l1=1e-5, l2=1e-4)))\n",
    "    cnn.add(keras.layers.BatchNormalization())\n",
    "    cnn.add(keras.layers.Activation(activation))\n",
    "    cnn.add(keras.layers.MaxPooling2D(2))\n",
    "    cnn.add(keras.layers.Conv2D(32, kernel_size=3, input_shape=D, padding='same', kernel_initializer=kernel_initializer, bias_initializer=bias_initializer))\n",
    "    cnn.add(keras.layers.BatchNormalization())\n",
    "    cnn.add(keras.layers.Activation(activation))\n",
    "    cnn.add(keras.layers.MaxPooling2D(2))\n",
    "    cnn.add(keras.layers.Flatten())\n",
    "    cnn.add(keras.layers.Dense(100, activation=activation, kernel_initializer=kernel_initializer, bias_initializer=bias_initializer, kernel_regularizer=keras.regularizers.L2(1e-5)))\n",
    "    cnn.add(keras.layers.Dense(n_classes, activation='softmax', kernel_initializer=kernel_initializer, bias_initializer=bias_initializer))\n",
    "\n",
    "    results[name] = (None, None)\n",
    "    summary = cnn.summary()\n",
    "\n",
    "    cnn.compile(loss='categorical_crossentropy', optimizer='adam', metrics=['accuracy'])\n",
    "    log = cnn.fit(X_train, Y_train, batch_size=128, epochs=10, verbose=1, validation_data=(X_test, Y_test))\n",
    "    results[name] = (summary, log)"
   ]
  },
  {
   "cell_type": "code",
   "execution_count": 27,
   "metadata": {},
   "outputs": [
    {
     "data": {
      "image/png": "[encoded data removed]",
      "text/plain": [
       "<Figure size 864x864 with 2 Axes>"
      ]
     },
     "metadata": {
      "needs_background": "light"
     },
     "output_type": "display_data"
    }
   ],
   "source": [
    "f = plt.figure(figsize=(12,12))\n",
    "i = 0\n",
    "axs1 = plt.subplot(211)\n",
    "axs2 = plt.subplot(212)\n",
    "for info in results.keys():\n",
    "    axs1.plot(results[info][1].history['val_accuracy'], label=f'Testing acc {info}')\n",
    "    axs2.plot(results[info][1].history['val_loss'], label=f'Testing loss {info}')\n",
    "axs1.legend()\n",
    "axs2.legend()\n",
    "axs1.grid()\n",
    "axs2.grid()\n",
    "    "
   ]
  },
  {
   "cell_type": "code",
   "execution_count": null,
   "metadata": {},
   "outputs": [],
   "source": []
  }
 ],
 "metadata": {
  "colab": {
   "collapsed_sections": [
    "Y5N7LBMyKbTy",
    "gRlDvqykKbPL",
    "jgZF2uaXMALx",
    "NjFjHIqFNSlH"
   ],
   "name": "TemplateDeepLearning.ipynb",
   "provenance": []
  },
  "kernelspec": {
   "display_name": "Python 3 (ipykernel)",
   "language": "python",
   "name": "python3"
  },
  "language_info": {
   "codemirror_mode": {
    "name": "ipython",
    "version": 3
   },
   "file_extension": ".py",
   "mimetype": "text/x-python",
   "name": "python",
   "nbconvert_exporter": "python",
   "pygments_lexer": "ipython3",
   "version": "3.9.12"
  }
 },
 "nbformat": 4,
 "nbformat_minor": 1
}
