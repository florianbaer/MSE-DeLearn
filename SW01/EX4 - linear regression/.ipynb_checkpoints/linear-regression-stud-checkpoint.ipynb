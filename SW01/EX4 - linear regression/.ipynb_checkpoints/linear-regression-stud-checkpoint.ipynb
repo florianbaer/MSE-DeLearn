{
 "cells": [
  {
   "cell_type": "markdown",
   "id": "18bdba27",
   "metadata": {},
   "source": [
    "# Linear Regression"
   ]
  },
  {
   "cell_type": "markdown",
   "id": "3629bfdf",
   "metadata": {},
   "source": [
    "## Imports"
   ]
  },
  {
   "cell_type": "code",
   "execution_count": 3,
   "id": "d6eb2aab",
   "metadata": {},
   "outputs": [],
   "source": [
    "import random\n",
    "import pandas as pd\n",
    "import numpy as np\n",
    "from numpy.linalg import inv\n",
    "import matplotlib.pyplot as plt"
   ]
  },
  {
   "cell_type": "markdown",
   "id": "e69e5d68",
   "metadata": {},
   "source": [
    "## Load data"
   ]
  },
  {
   "cell_type": "markdown",
   "id": "ba14bf9f",
   "metadata": {},
   "source": [
    "Define the path to the file containing the data"
   ]
  },
  {
   "cell_type": "code",
   "execution_count": 4,
   "id": "5f3f924f",
   "metadata": {},
   "outputs": [],
   "source": [
    "datafile = \"lausanne-appart.csv\""
   ]
  },
  {
   "cell_type": "markdown",
   "id": "adfab574",
   "metadata": {},
   "source": [
    "Read the data"
   ]
  },
  {
   "cell_type": "code",
   "execution_count": 5,
   "id": "5108e239",
   "metadata": {},
   "outputs": [],
   "source": [
    "dataset = pd.read_csv(datafile)"
   ]
  },
  {
   "cell_type": "markdown",
   "id": "5a97d4cc",
   "metadata": {},
   "source": [
    "Display first rows"
   ]
  },
  {
   "cell_type": "code",
   "execution_count": 6,
   "id": "34222aff",
   "metadata": {},
   "outputs": [
    {
     "data": {
      "text/html": [
       "<div>\n",
       "<style scoped>\n",
       "    .dataframe tbody tr th:only-of-type {\n",
       "        vertical-align: middle;\n",
       "    }\n",
       "\n",
       "    .dataframe tbody tr th {\n",
       "        vertical-align: top;\n",
       "    }\n",
       "\n",
       "    .dataframe thead th {\n",
       "        text-align: right;\n",
       "    }\n",
       "</style>\n",
       "<table border=\"1\" class=\"dataframe\">\n",
       "  <thead>\n",
       "    <tr style=\"text-align: right;\">\n",
       "      <th></th>\n",
       "      <th>living_area</th>\n",
       "      <th>nb_rooms</th>\n",
       "      <th>rent_price</th>\n",
       "    </tr>\n",
       "  </thead>\n",
       "  <tbody>\n",
       "    <tr>\n",
       "      <th>0</th>\n",
       "      <td>69</td>\n",
       "      <td>3.0</td>\n",
       "      <td>1810</td>\n",
       "    </tr>\n",
       "    <tr>\n",
       "      <th>1</th>\n",
       "      <td>95</td>\n",
       "      <td>3.5</td>\n",
       "      <td>2945</td>\n",
       "    </tr>\n",
       "    <tr>\n",
       "      <th>2</th>\n",
       "      <td>21</td>\n",
       "      <td>1.5</td>\n",
       "      <td>685</td>\n",
       "    </tr>\n",
       "    <tr>\n",
       "      <th>3</th>\n",
       "      <td>20</td>\n",
       "      <td>1.0</td>\n",
       "      <td>720</td>\n",
       "    </tr>\n",
       "    <tr>\n",
       "      <th>4</th>\n",
       "      <td>33</td>\n",
       "      <td>1.5</td>\n",
       "      <td>830</td>\n",
       "    </tr>\n",
       "  </tbody>\n",
       "</table>\n",
       "</div>"
      ],
      "text/plain": [
       "   living_area  nb_rooms  rent_price\n",
       "0           69       3.0        1810\n",
       "1           95       3.5        2945\n",
       "2           21       1.5         685\n",
       "3           20       1.0         720\n",
       "4           33       1.5         830"
      ]
     },
     "execution_count": 6,
     "metadata": {},
     "output_type": "execute_result"
    }
   ],
   "source": [
    "dataset.head()"
   ]
  },
  {
   "cell_type": "code",
   "execution_count": 7,
   "id": "d31f7cb4",
   "metadata": {},
   "outputs": [
    {
     "name": "stdout",
     "output_type": "stream",
     "text": [
      "<class 'numpy.ndarray'>\n",
      "(201,) (201,)\n"
     ]
    }
   ],
   "source": [
    "# get numpy arrays from panda objects\n",
    "rent_price = dataset.rent_price.values\n",
    "living_area = dataset.living_area.values\n",
    "print(type(rent_price))\n",
    "print(rent_price.shape, living_area.shape)"
   ]
  },
  {
   "cell_type": "markdown",
   "id": "2ec4b8eb",
   "metadata": {},
   "source": [
    "## Part 1 - Visualize the data"
   ]
  },
  {
   "cell_type": "markdown",
   "id": "dbf6b9cf",
   "metadata": {},
   "source": [
    "a) Plot a histogram to visualize the distribution of the renting price"
   ]
  },
  {
   "cell_type": "code",
   "execution_count": 8,
   "id": "ad07d4cd",
   "metadata": {},
   "outputs": [
    {
     "data": {
      "image/png": "[encoded data removed]",
      "text/plain": [
       "<Figure size 576x288 with 1 Axes>"
      ]
     },
     "metadata": {
      "needs_background": "light"
     },
     "output_type": "display_data"
    }
   ],
   "source": [
    "plt.figure(1, figsize=(8, 4))\n",
    "plt.hist(rent_price)\n",
    "plt.xlabel(\"Rent (CHF)\")\n",
    "plt.title(\"Rent distribution\")\n",
    "plt.xlim(np.min(rent_price), np.max(rent_price))\n",
    "plt.show()"
   ]
  },
  {
   "cell_type": "markdown",
   "id": "602770ae",
   "metadata": {},
   "source": [
    "b) Plot a histogram to visualize the distribution of the living area"
   ]
  },
  {
   "cell_type": "code",
   "execution_count": 9,
   "id": "ac0c9f07",
   "metadata": {},
   "outputs": [
    {
     "data": {
      "image/png": "[encoded data removed]",
      "text/plain": [
       "<Figure size 576x288 with 1 Axes>"
      ]
     },
     "metadata": {
      "needs_background": "light"
     },
     "output_type": "display_data"
    }
   ],
   "source": [
    "plt.figure(1, figsize=(8, 4))\n",
    "plt.hist(living_area)\n",
    "plt.xlabel(\"Living Area (m2)\")\n",
    "plt.title(\"Area distribution\")\n",
    "plt.xlim(np.min(living_area), np.max(living_area))\n",
    "plt.show()"
   ]
  },
  {
   "cell_type": "markdown",
   "id": "b9a954dd",
   "metadata": {},
   "source": [
    "c) Plot a scatter plot of renting price as a function of living area"
   ]
  },
  {
   "cell_type": "code",
   "execution_count": 10,
   "id": "6d015af9",
   "metadata": {},
   "outputs": [
    {
     "data": {
      "image/png": "[encoded data removed]",
      "text/plain": [
       "<Figure size 576x288 with 1 Axes>"
      ]
     },
     "metadata": {
      "needs_background": "light"
     },
     "output_type": "display_data"
    }
   ],
   "source": [
    "plt.figure(1, figsize=(8, 4))\n",
    "plt.scatter(living_area, rent_price)\n",
    "plt.xlabel(\"Living Area (m2)\")\n",
    "plt.ylabel(\"Rent (CHF)\")\n",
    "plt.title(\"Rent Price ~ Living Area\")\n",
    "plt.show()"
   ]
  },
  {
   "cell_type": "markdown",
   "id": "9c787c4b",
   "metadata": {},
   "source": [
    "## Part 2 - Normal equations for linear regression - using numpy arrays"
   ]
  },
  {
   "cell_type": "markdown",
   "id": "859bbd89",
   "metadata": {},
   "source": [
    "a) Implement the closed form solution to this problem using the following normal equation:"
   ]
  },
  {
   "cell_type": "markdown",
   "id": "cf1d5eda",
   "metadata": {},
   "source": [
    "<div><div style=\"display: table-cell; width: 100%;\"><center>$\\theta = (X^{T}X)^{-1}X^{T}\\vec{y}$</center></div><div style=\"display: table-cell; width: 100%;\">$(3)$</div></div>"
   ]
  },
  {
   "cell_type": "markdown",
   "id": "c3c8e4c1",
   "metadata": {},
   "source": [
    "Assuming $x$ is the living area and $y$ is the renting price. Use `numpy` for the vector operations. Plot the computed line on top of the scatter plot of exercise 1."
   ]
  },
  {
   "cell_type": "code",
   "execution_count": 88,
   "id": "19ffbbd9",
   "metadata": {},
   "outputs": [
    {
     "name": "stdout",
     "output_type": "stream",
     "text": [
      "[240.07710727  26.33242457]\n"
     ]
    }
   ],
   "source": [
    "X = np.ones((len(living_area), 2))\n",
    "X[:,1] = living_area\n",
    "y = rent_price\n",
    "theta = inv(np.dot(X.T,X)).dot(X.T).dot(y)\n",
    "print(theta)"
   ]
  },
  {
   "cell_type": "markdown",
   "id": "ccc5d7b9",
   "metadata": {},
   "source": [
    "b) Compute the overall cost value according to the following equation:"
   ]
  },
  {
   "cell_type": "markdown",
   "id": "31a38211",
   "metadata": {},
   "source": [
    "<div><div style=\"display: table-cell; width: 100%;\"><center>$J(\\theta) = \\frac{1}{2N} \\sum_{n=1}^{N} (h_{\\theta}(\\mathbf{x}_{n}) - y_{n})^{2}$</center></div><div style=\"display: table-cell; width: 100%;\">$(2)$</div></div>"
   ]
  },
  {
   "cell_type": "code",
   "execution_count": 12,
   "id": "db65a2fa",
   "metadata": {},
   "outputs": [
    {
     "data": {
      "text/plain": [
       "138034.95779787414"
      ]
     },
     "execution_count": 12,
     "metadata": {},
     "output_type": "execute_result"
    }
   ],
   "source": [
    "lenght= len(living_area)\n",
    "1/(2*lenght)*(np.power((X.dot(theta))-y, 2).sum())"
   ]
  },
  {
   "cell_type": "markdown",
   "id": "fb43493a",
   "metadata": {},
   "source": [
    "## Part 3 - Normal equations for linear regression - using pytorch tensors\n",
    "\n",
    "Redo the part 2, this time using pytorch tensors."
   ]
  },
  {
   "cell_type": "code",
   "execution_count": 94,
   "id": "7a6298f0",
   "metadata": {},
   "outputs": [
    {
     "name": "stdout",
     "output_type": "stream",
     "text": [
      "tensor([240.0771,  26.3324], dtype=torch.float64)\n"
     ]
    }
   ],
   "source": [
    "import torch\n",
    "X = np.ones((len(living_area), 2))\n",
    "X[:,1] = living_area\n",
    "y = rent_price\n",
    "\n",
    "input = torch.from_numpy(living_area)\n",
    "y = rent_price\n",
    "p1d = torch.ones(len(living_area))\n",
    "X = torch.stack((p1d,input),1).to(torch.double)\n",
    "y = torch.from_numpy(y).to(torch.double)\n",
    "\n",
    "theta = torch.inverse(torch.transpose(X,0,1)@X)@torch.transpose(X,0,1)@y\n",
    "print(theta)"
   ]
  },
  {
   "cell_type": "code",
   "execution_count": 95,
   "id": "b559d3c1-8c65-47c7-ac38-9a09b7b76e7d",
   "metadata": {},
   "outputs": [
    {
     "data": {
      "text/plain": [
       "tensor(138034.9578, dtype=torch.float64)"
      ]
     },
     "execution_count": 95,
     "metadata": {},
     "output_type": "execute_result"
    }
   ],
   "source": [
    "lenght= len(living_area)\n",
    "1/(2*lenght)*((((X@(theta))-y)**2).sum())"
   ]
  },
  {
   "cell_type": "code",
   "execution_count": null,
   "id": "85691d94-adb8-4e20-b626-763dd9de789e",
   "metadata": {},
   "outputs": [],
   "source": []
  }
 ],
 "metadata": {
  "kernelspec": {
   "display_name": "Python 3 (ipykernel)",
   "language": "python",
   "name": "python3"
  },
  "language_info": {
   "codemirror_mode": {
    "name": "ipython",
    "version": 3
   },
   "file_extension": ".py",
   "mimetype": "text/x-python",
   "name": "python",
   "nbconvert_exporter": "python",
   "pygments_lexer": "ipython3",
   "version": "3.9.7"
  }
 },
 "nbformat": 4,
 "nbformat_minor": 5
}
